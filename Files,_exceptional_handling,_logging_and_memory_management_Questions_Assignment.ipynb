{
  "nbformat": 4,
  "nbformat_minor": 0,
  "metadata": {
    "colab": {
      "provenance": []
    },
    "kernelspec": {
      "name": "python3",
      "display_name": "Python 3"
    },
    "language_info": {
      "name": "python"
    }
  },
  "cells": [
    {
      "cell_type": "markdown",
      "source": [
        "1. What is the difference between interpreted and compiled languages ?\n",
        "\n",
        "Solution: The difference between interpreted and compiled languages are:\n",
        "1. Interpreted Languages\\\n",
        "Definition: Code is executed line-by-line by an interpreter without needing a separate compilation step.\\\n",
        "Python Context: Python is often referred to as an interpreted language because the Python interpreter (e.g., CPython) reads and executes the code line-by-line.\\\n",
        "Compilation Step:No explicit compilation step.\\\n",
        "Speed:Slower (processed line-by-line).\\\n",
        "Portability: Highly portable (requires interpreter).\\\n",
        "Debugging:Errors are caught at runtime."
      ],
      "metadata": {
        "id": "S0yfiL8QL48i"
      }
    },
    {
      "cell_type": "code",
      "execution_count": null,
      "metadata": {
        "colab": {
          "base_uri": "https://localhost:8080/"
        },
        "id": "KOxVmolBLxA4",
        "outputId": "e8011152-74df-4db2-e7fa-058a90732bd6"
      },
      "outputs": [
        {
          "output_type": "stream",
          "name": "stdout",
          "text": [
            "Hello World!\n"
          ]
        }
      ],
      "source": [
        "#Ex\n",
        "print(\"Hello World!\")\n",
        "# The interpreter processes this code directly to produce output."
      ]
    },
    {
      "cell_type": "markdown",
      "source": [
        "2. Compiled Languages\\\n",
        "Definition: Code is translated into machine code (binary) through a compiler before execution. The resulting machine code can be executed directly by the hardware.\\\n",
        "Python Context: Python is not purely interpreted. When you run a Python program, the Python interpreter first compiles the source code (.py file) into bytecode (an intermediate form, .pyc files in the __pycache__ folder). The bytecode is then executed by the Python Virtual Machine (PVM), which acts like an interpreter.\\\n",
        "Compilation Step: Python code is compiled to bytecode automatically.\\\n",
        "Speed: Bytecode execution is faster than direct interpretation.\\\n",
        "Portability: Bytecode is platform-independent but needs the Python runtime.\\\n",
        "Debugging: Errors during bytecode generation are caught earlier."
      ],
      "metadata": {
        "id": "Atap4HaoL3-j"
      }
    },
    {
      "cell_type": "markdown",
      "source": [
        "2. What is exception handling in Python ?\n",
        "\n",
        "Solution: Exception handling in Python is a mechanism that allows your program to deal with unexpected situations (exceptions) during execution, such as division by zero, file not found, or invalid user input. It helps you gracefully handle errors without crashing the program.\\\n",
        "Basic Concepts of Exception Handling\\\n",
        "Exceptions: Errors detected during execution (e.g., ZeroDivisionError, ValueError).\\\n",
        "Handling: Use try, except, and optionally finally and else to manage these errors.\n",
        "\n",
        "How It Works\\\n",
        "try Block: Contains code that might cause an exception.\\\n",
        "except Block: Catches and handles the exception. You can specify the type of exception to handle.\\\n",
        "else Block: Executes only if no exception is raised in the try block.\\\n",
        "finally Block: Executes regardless of whether an exception occurred, often used for cleanup.\n",
        "\n",
        "Why Use Exception Handling?\\\n",
        "Prevents Crashes: Gracefully handles unexpected errors.\\\n",
        "Improves Readability: Separates error-handling logic from the main code.\\\n",
        "Resource Management: Ensures resources like files or network connections are properly closed."
      ],
      "metadata": {
        "id": "F4jqyMhKO_0s"
      }
    },
    {
      "cell_type": "code",
      "source": [
        "#EX + Syntax\n",
        "try:\n",
        "    num = int(input(\"Enter a number: \"))\n",
        "    result = 10 / num\n",
        "    print(f\"Result: {result}\")\n",
        "except ValueError:\n",
        "    print(\"Invalid input! Please enter a number.\")\n",
        "except ZeroDivisionError:\n",
        "    print(\"Cannot divide by zero!\")\n",
        "else:\n",
        "    print(\"Calculation successful.\")\n",
        "finally:\n",
        "    print(\"End of program.\")\n"
      ],
      "metadata": {
        "colab": {
          "base_uri": "https://localhost:8080/"
        },
        "id": "UMzXOA9tPjZt",
        "outputId": "f8322eb9-6e43-40e9-98c3-f0051950a7ba"
      },
      "execution_count": null,
      "outputs": [
        {
          "output_type": "stream",
          "name": "stdout",
          "text": [
            "Enter a number: 2\n",
            "Result: 5.0\n",
            "Calculation successful.\n",
            "End of program.\n"
          ]
        }
      ]
    },
    {
      "cell_type": "markdown",
      "source": [
        "3.  What is the purpose of the finally block in exception handling ?\n",
        "\n",
        "Solution: The finally block in Python exception handling is used to define code that should always execute, regardless of whether an exception occurs or not. This makes it ideal for cleanup tasks or releasing resources that your program might have used, such as closing files, releasing database connections, or freeing up system resources.\\\n",
        "Features of the finally Block\\\n",
        "Always Executes: Runs no matter what, whether an exception is raised, caught, or not.\\\n",
        "Ensures Cleanup: Perfect for operations that must be performed even if an error occurs.\\\n",
        "Optional: Including the finally block is not mandatory."
      ],
      "metadata": {
        "id": "9rGYBoX3QPng"
      }
    },
    {
      "cell_type": "code",
      "source": [
        "#SYNTAX\n",
        "try:\n",
        "    # Code that may raise an exception\n",
        "    risky_operation()\n",
        "except SomeException:\n",
        "    # Handle exception\n",
        "    print(\"An error occurred.\")\n",
        "finally:\n",
        "    # Cleanup code\n",
        "    print(\"This will always execute.\")"
      ],
      "metadata": {
        "id": "5om_ZFMvQ-lq"
      },
      "execution_count": null,
      "outputs": []
    },
    {
      "cell_type": "code",
      "source": [
        "#EX\n",
        "# No Exception\n",
        "try:\n",
        "    print(\"Executing try block.\")\n",
        "except:\n",
        "    print(\"Exception handled.\")\n",
        "finally:\n",
        "    print(\"Finally block executed.\")\n",
        "# Exception occurs\n",
        "try:\n",
        "    result = 10 / 0\n",
        "except ZeroDivisionError:\n",
        "    print(\"Cannot divide by zero.\")\n",
        "finally:\n",
        "    print(\"Finally block executed.\")\n",
        "#Expection not handled\n",
        "try:\n",
        "    result = int(\"abc\")\n",
        "finally:\n",
        "    print(\"Finally block executed.\")\n"
      ],
      "metadata": {
        "colab": {
          "base_uri": "https://localhost:8080/",
          "height": 297
        },
        "id": "M1PqLPRnRnxW",
        "outputId": "84913a69-2ef2-47a9-a38f-bca74e6d968b"
      },
      "execution_count": null,
      "outputs": [
        {
          "output_type": "stream",
          "name": "stdout",
          "text": [
            "Executing try block.\n",
            "Finally block executed.\n",
            "Cannot divide by zero.\n",
            "Finally block executed.\n",
            "Finally block executed.\n"
          ]
        },
        {
          "output_type": "error",
          "ename": "ValueError",
          "evalue": "invalid literal for int() with base 10: 'abc'",
          "traceback": [
            "\u001b[0;31m---------------------------------------------------------------------------\u001b[0m",
            "\u001b[0;31mValueError\u001b[0m                                Traceback (most recent call last)",
            "\u001b[0;32m<ipython-input-5-7773d46ffe63>\u001b[0m in \u001b[0;36m<cell line: 15>\u001b[0;34m()\u001b[0m\n\u001b[1;32m     14\u001b[0m \u001b[0;34m\u001b[0m\u001b[0m\n\u001b[1;32m     15\u001b[0m \u001b[0;32mtry\u001b[0m\u001b[0;34m:\u001b[0m\u001b[0;34m\u001b[0m\u001b[0;34m\u001b[0m\u001b[0m\n\u001b[0;32m---> 16\u001b[0;31m     \u001b[0mresult\u001b[0m \u001b[0;34m=\u001b[0m \u001b[0mint\u001b[0m\u001b[0;34m(\u001b[0m\u001b[0;34m\"abc\"\u001b[0m\u001b[0;34m)\u001b[0m\u001b[0;34m\u001b[0m\u001b[0;34m\u001b[0m\u001b[0m\n\u001b[0m\u001b[1;32m     17\u001b[0m \u001b[0;32mfinally\u001b[0m\u001b[0;34m:\u001b[0m\u001b[0;34m\u001b[0m\u001b[0;34m\u001b[0m\u001b[0m\n\u001b[1;32m     18\u001b[0m     \u001b[0mprint\u001b[0m\u001b[0;34m(\u001b[0m\u001b[0;34m\"Finally block executed.\"\u001b[0m\u001b[0;34m)\u001b[0m\u001b[0;34m\u001b[0m\u001b[0;34m\u001b[0m\u001b[0m\n",
            "\u001b[0;31mValueError\u001b[0m: invalid literal for int() with base 10: 'abc'"
          ]
        }
      ]
    },
    {
      "cell_type": "markdown",
      "source": [
        "Common use cases:\n"
      ],
      "metadata": {
        "id": "EOhDJXInSY6t"
      }
    },
    {
      "cell_type": "code",
      "source": [
        "# Closing Files or Resources:\n",
        "try:\n",
        "    file = open(\"example.txt\", \"r\")\n",
        "    # Perform file operations\n",
        "except FileNotFoundError:\n",
        "    print(\"File not found!\")\n",
        "finally:\n",
        "    file.close()\n",
        "    print(\"File closed.\")\n"
      ],
      "metadata": {
        "id": "TaGUKQ8ITIgx"
      },
      "execution_count": null,
      "outputs": []
    },
    {
      "cell_type": "code",
      "source": [
        "# Releasing Locks or Connections\n",
        "try:\n",
        "    db_connection = connect_to_database()\n",
        "    # Perform database operations\n",
        "finally:\n",
        "    db_connection.close()\n",
        "    print(\"Database connection closed.\")\n"
      ],
      "metadata": {
        "id": "sDd2-cFgTK0U"
      },
      "execution_count": null,
      "outputs": []
    },
    {
      "cell_type": "markdown",
      "source": [
        "4. What is logging in Python ?\n",
        "\n",
        "Solution: Logging in Python is a feature that allows you to track events that occur while a program runs. It is essential for debugging, monitoring, and understanding the behavior of your application, especially in production environments. Python provides the logging module as a standard way to perform logging.\n",
        "\n",
        "Why Use Logging?\\\n",
        "Debugging and Troubleshooting: Logs provide insight into what happened before an issue occurred.\\\n",
        "Monitoring: Helps track application performance and usage.\\\n",
        "Separation from Output: Logs are separate from standard program output, keeping debugging and runtime data organized.\\\n",
        "Persistence: Logs can be written to files or external systems for later analysis.\\\n",
        "Basic Logging with logging Module\\\n",
        "Importing and Basic Usage\n",
        "\n"
      ],
      "metadata": {
        "id": "ONEvVKvoTZth"
      }
    },
    {
      "cell_type": "code",
      "source": [
        "import logging\n",
        "\n",
        "logging.basicConfig(level=logging.DEBUG, force=True)  # `force=True` resets any existing logging configuration\n",
        "\n",
        "logging.debug(\"This is a debug message.\")    # Should appear\n",
        "logging.info(\"This is an info message.\")     # Should appear\n",
        "logging.warning(\"This is a warning message.\") # Will appear\n",
        "logging.error(\"This is an error message.\")    # Will appear\n",
        "\n",
        "\n"
      ],
      "metadata": {
        "colab": {
          "base_uri": "https://localhost:8080/"
        },
        "id": "zbcPdB5fTKsu",
        "outputId": "53844e25-725b-438f-e6b2-fec9a9de6cf2"
      },
      "execution_count": null,
      "outputs": [
        {
          "output_type": "stream",
          "name": "stderr",
          "text": [
            "DEBUG:root:This is a debug message.\n",
            "INFO:root:This is an info message.\n",
            "WARNING:root:This is a warning message.\n",
            "ERROR:root:This is an error message.\n"
          ]
        }
      ]
    },
    {
      "cell_type": "markdown",
      "source": [
        "- Logging Levels\\\n",
        "The logging module has predefined severity levels to indicate the importance of messages:\\\n",
        "Level\tDescription\\\n",
        "DEBUG:\tDetailed information for diagnosing problems.\\\n",
        "INFO:\tGeneral information about program execution.\\\n",
        "WARNING:\tIndicates potential problems.\\\n",
        "ERROR:\tA serious problem that caused an issue in execution.\\\n",
        "CRITICAL:\tA very severe issue that likely stops the program.\\\n",
        "- When to Use Logging\\\n",
        "Debugging during Development: Use DEBUG or INFO for internal insights.\\\n",
        "Error Tracking in Production: Use ERROR or CRITICAL to capture issues.\\\n",
        "Monitoring and Analytics: Use INFO or WARNING for operational data.\\\n",
        "- Benefits of Logging \\\n",
        "Log Levels: Allows filtering messages based on importance.\\\n",
        "Persistence: Logs can be saved and reviewed later.\\\n",
        "Flexibility: Easily configure output to files, consoles, or external systems.\\\n",
        "Professionalism: Keeps your codebase clean and scalable."
      ],
      "metadata": {
        "id": "fRIrLPvDU8ZH"
      }
    },
    {
      "cell_type": "markdown",
      "source": [
        "5. What is the significance of the __del__ method in Python ?\n",
        "\n",
        "Solution: The __del__ method in Python is a special method, also known as a destructor, which is called when an object is about to be destroyed or garbage-collected. It allows you to define cleanup behavior, such as releasing resources or closing files, when an object is no longer needed.\\\n",
        "Key Points about __del__\\\n",
        "1. Purpose:\n",
        "Used to release external resources or perform cleanup tasks.\n",
        "Examples: Closing files, releasing database connections, freeing up network sockets, etc.\\\n",
        "2. Automatic Invocation:\n",
        "Python calls __del__ automatically when an object is garbage collected.\n",
        "This typically happens when the object's reference count drops to zero (i.e., there are no more references to the object).\n",
        "3. Synatx :"
      ],
      "metadata": {
        "id": "u_uVeOXbWg9i"
      }
    },
    {
      "cell_type": "code",
      "source": [
        "class MyClass:\n",
        "    def __del__(self):\n",
        "        print(\"Destructor called, cleaning up resources.\")\n"
      ],
      "metadata": {
        "id": "mXf5Pw1SUr7W"
      },
      "execution_count": null,
      "outputs": []
    },
    {
      "cell_type": "code",
      "source": [
        "#Ex\n",
        "class MyClass:\n",
        "    def __del__(self):\n",
        "        print(\"Destructor called, object deleted.\")\n",
        "\n",
        "obj = MyClass()  # Create an object\n",
        "del obj           # Explicitly delete the object\n"
      ],
      "metadata": {
        "colab": {
          "base_uri": "https://localhost:8080/"
        },
        "id": "TL-8AoL1XTxS",
        "outputId": "3390ed89-0701-4f29-eda4-59646ec308da"
      },
      "execution_count": null,
      "outputs": [
        {
          "output_type": "stream",
          "name": "stdout",
          "text": [
            "Destructor called, object deleted.\n"
          ]
        }
      ]
    },
    {
      "cell_type": "markdown",
      "source": [
        "When to Use __del__\\\n",
        "Use __del__ sparingly, mainly for non-deterministic cleanup tasks.\\\n",
        "Prefer context managers (with) for deterministic and explicit cleanup.\\\n",
        "The __del__ method is powerful but should be used with caution to avoid unexpected behavior in your programs.\n",
        "- Some considerations about del:\\\n",
        "Timing:\\\n",
        "__del__ is not guaranteed to run immediately after an object goes out of scope.\n",
        "In CPython, it runs when an object's reference count drops to zero, but timing may vary in other Python implementations like PyPy.\\\n",
        "Circular References:\\\n",
        "Objects in circular references (e.g., A -> B -> A) may not be garbage collected, so __del__ may not execute.\\\n",
        "Exceptions:\\\n",
        "Exceptions in __del__ are ignored, and a warning might be logged.\\\n",
        "Preferred Alternative:\\\n",
        "Use context managers (with) for deterministic and explicit cleanup instead of relying on __del__."
      ],
      "metadata": {
        "id": "LL0i75C5Xj-D"
      }
    },
    {
      "cell_type": "markdown",
      "source": [
        "6. What is the difference between import and from ... import in Python\n",
        "\n",
        "Solution:  \n",
        "1. import Statement\n",
        "- Purpose: Imports the entire module.\n",
        "- Scope: Imports the entire module.\n",
        "- Namespace Usage: Requires module prefix (e.g., math.sqrt).\n",
        "- Clarity: Clearer where the function comes from.\n",
        "- Risk of Namespace Conflict: Lower, as module contents remain scoped.\n",
        "- Performance: May be slightly slower due to importing the whole module.\n",
        "- Syntax: import module_name\n",
        "- Usage: You need to use the module name to access its contents."
      ],
      "metadata": {
        "id": "-YZFiCaEYdMk"
      }
    },
    {
      "cell_type": "code",
      "source": [
        "import math\n",
        "\n",
        "print(math.sqrt(16))  # Use module_name.function_name\n"
      ],
      "metadata": {
        "colab": {
          "base_uri": "https://localhost:8080/"
        },
        "id": "sYf7r6x6XcR8",
        "outputId": "1914b565-9c54-4fa3-ef38-685db3e1a815"
      },
      "execution_count": null,
      "outputs": [
        {
          "output_type": "stream",
          "name": "stdout",
          "text": [
            "4.0\n"
          ]
        }
      ]
    },
    {
      "cell_type": "markdown",
      "source": [
        " 2. from ... import Statement\n",
        "- Purpose: Imports specific attributes (e.g., functions, classes, variables) directly from a module.\n",
        "- Scope: Imports only specified components.\n",
        "- Namespace Usage: No prefix needed (e.g., sqrt).\n",
        "- Clarity: Can be less clear in large codebases.\n",
        "- Risk of Namespace Conflict: Higher, as imported names are added directly.\n",
        "- Performance: Faster if only a few components are imported.\n",
        "- Syntax: from module_name import specific_name\n",
        "- Usage: Use the imported name directly without referencing the module."
      ],
      "metadata": {
        "id": "hGlBPMH7b55d"
      }
    },
    {
      "cell_type": "code",
      "source": [
        "from math import sqrt\n",
        "\n",
        "print(sqrt(16))  # Direct access to the imported function\n"
      ],
      "metadata": {
        "colab": {
          "base_uri": "https://localhost:8080/"
        },
        "id": "CucQHHszbw-d",
        "outputId": "b1089e00-214b-4f0d-ec3c-16e00b1e69ac"
      },
      "execution_count": null,
      "outputs": [
        {
          "output_type": "stream",
          "name": "stdout",
          "text": [
            "4.0\n"
          ]
        }
      ]
    },
    {
      "cell_type": "markdown",
      "source": [
        "7.  How can you handle multiple exceptions in Python ?\n",
        "\n",
        "Solution: In Python, we can handle multiple exceptions using a combination of except blocks or by grouping exceptions together as follows:\n",
        "1. Using Multiple except Blocks\\\n",
        "we can write separate except blocks for each type of exception to handle them differently."
      ],
      "metadata": {
        "id": "XHXGBg5LcxtH"
      }
    },
    {
      "cell_type": "code",
      "source": [
        "try:\n",
        "    x = int(input(\"Enter a number: \"))\n",
        "    result = 10 / x\n",
        "    print(result)\n",
        "except ValueError:\n",
        "    print(\"Invalid input! Please enter a valid number.\")\n",
        "except ZeroDivisionError:\n",
        "    print(\"Cannot divide by zero!\")\n"
      ],
      "metadata": {
        "colab": {
          "base_uri": "https://localhost:8080/"
        },
        "id": "lMVms0DecvqB",
        "outputId": "f8880a62-775f-4c61-a31b-3a235e987e62"
      },
      "execution_count": null,
      "outputs": [
        {
          "output_type": "stream",
          "name": "stdout",
          "text": [
            "Enter a number: 10\n",
            "1.0\n"
          ]
        }
      ]
    },
    {
      "cell_type": "markdown",
      "source": [
        "2. Handling Multiple Exceptions in One Block:\n",
        "We can group multiple exceptions in a single except block using a tuple. This is useful when the handling logic is the same for multiple exceptions."
      ],
      "metadata": {
        "id": "RI7_fkMJep8S"
      }
    },
    {
      "cell_type": "code",
      "source": [
        "try:\n",
        "    x = int(input(\"Enter a number: \"))\n",
        "    result = 10 / x\n",
        "except (ValueError, ZeroDivisionError) as e:\n",
        "    print(f\"An error occurred: {e}\")\n"
      ],
      "metadata": {
        "colab": {
          "base_uri": "https://localhost:8080/"
        },
        "id": "G8wEMdPveB2A",
        "outputId": "2567ecf6-1310-4f4d-8bc7-b5510445d1e4"
      },
      "execution_count": null,
      "outputs": [
        {
          "output_type": "stream",
          "name": "stdout",
          "text": [
            "Enter a number: 0\n",
            "An error occurred: division by zero\n"
          ]
        }
      ]
    },
    {
      "cell_type": "markdown",
      "source": [
        "3.Using a Generic Exception Handler:\n",
        "  To catch all exceptions (not recommended unless necessary), use a bare except block or catch the base Exception class."
      ],
      "metadata": {
        "id": "0tdY6aCie9bw"
      }
    },
    {
      "cell_type": "code",
      "source": [
        "try:\n",
        "    x = int(input(\"Enter a number: \"))\n",
        "    result = 10 / x\n",
        "except Exception as e:\n",
        "    print(f\"An unexpected error occurred: {e}\")\n"
      ],
      "metadata": {
        "colab": {
          "base_uri": "https://localhost:8080/"
        },
        "id": "oid9OY6KfG4M",
        "outputId": "fc84dcf6-8bd2-4486-d8b4-65292417c8db"
      },
      "execution_count": null,
      "outputs": [
        {
          "output_type": "stream",
          "name": "stdout",
          "text": [
            "Enter a number: 0\n",
            "An unexpected error occurred: division by zero\n"
          ]
        }
      ]
    },
    {
      "cell_type": "markdown",
      "source": [
        "4. Combining Specific and Generic Exception Handlers:\n",
        "We can mix specific exception handlers with a generic one for broader coverage."
      ],
      "metadata": {
        "id": "_tS6WgGwfKTB"
      }
    },
    {
      "cell_type": "code",
      "source": [
        "try:\n",
        "    x = int(input(\"Enter a number: \"))\n",
        "    result = 10 / x\n",
        "except ValueError:\n",
        "    print(\"Invalid input! Please enter a valid number.\")\n",
        "except ZeroDivisionError:\n",
        "    print(\"Cannot divide by zero!\")\n",
        "except Exception as e:\n",
        "    print(f\"An unexpected error occurred: {e}\")\n"
      ],
      "metadata": {
        "colab": {
          "base_uri": "https://localhost:8080/"
        },
        "id": "Psfw-kKRfHv3",
        "outputId": "e9a60850-1b89-4b1d-8a9d-3857ec03da27"
      },
      "execution_count": null,
      "outputs": [
        {
          "output_type": "stream",
          "name": "stdout",
          "text": [
            "Enter a number: abc\n",
            "Invalid input! Please enter a valid number.\n"
          ]
        }
      ]
    },
    {
      "cell_type": "markdown",
      "source": [
        "5. Using else with try-except:\n",
        "The else block runs if no exceptions are raised in the try block."
      ],
      "metadata": {
        "id": "y_r7Cm6CfaaJ"
      }
    },
    {
      "cell_type": "code",
      "source": [
        "try:\n",
        "    x = int(input(\"Enter a number: \"))\n",
        "    result = 10 / x\n",
        "except (ValueError, ZeroDivisionError) as e:\n",
        "    print(f\"An error occurred: {e}\")\n",
        "else:\n",
        "    print(f\"Result: {result}\")\n"
      ],
      "metadata": {
        "colab": {
          "base_uri": "https://localhost:8080/"
        },
        "id": "qPV1Jgl5fQUM",
        "outputId": "343405a6-c4f9-4dd4-abe9-89ce0a2f22eb"
      },
      "execution_count": null,
      "outputs": [
        {
          "output_type": "stream",
          "name": "stdout",
          "text": [
            "Enter a number: 10\n",
            "Result: 1.0\n"
          ]
        }
      ]
    },
    {
      "cell_type": "markdown",
      "source": [
        "6.  Using finally for Cleanup:\n",
        "The finally block runs regardless of whether an exception occurred, ensuring cleanup tasks are executed."
      ],
      "metadata": {
        "id": "xty1vQ6JfhL2"
      }
    },
    {
      "cell_type": "code",
      "source": [
        "try:\n",
        "    x = int(input(\"Enter a number: \"))\n",
        "    result = 10 / x\n",
        "except (ValueError, ZeroDivisionError) as e:\n",
        "    print(f\"An error occurred: {e}\")\n",
        "finally:\n",
        "    print(\"Execution completed.\")\n"
      ],
      "metadata": {
        "colab": {
          "base_uri": "https://localhost:8080/"
        },
        "id": "AWhTkov0feZ8",
        "outputId": "31868936-1f0e-47d7-c4f6-f1bdac28bb9d"
      },
      "execution_count": null,
      "outputs": [
        {
          "output_type": "stream",
          "name": "stdout",
          "text": [
            "Enter a number: 10\n",
            "Execution completed.\n"
          ]
        }
      ]
    },
    {
      "cell_type": "markdown",
      "source": [
        "8. What is the purpose of the with statement when handling files in Python ?\n",
        "\n",
        "Solution: The with statement in Python is used for resource management and simplifies exception handling. When working with files, it ensures that resources (like files) are properly acquired and released, even if an error occurs during file operations.\n",
        "\n",
        "Purpose of the with Statement\n",
        "1. Automatic Resource Management:\n",
        "It automatically takes care of opening and closing the file, so you don’t need to explicitly call file.close(). This is especially useful to avoid forgetting to close the file, which could lead to resource leaks.\n",
        "2. Exception Safety:\n",
        "If an exception occurs inside the with block, the file will still be closed properly, avoiding potential issues like file corruption or open file handles.\n",
        "3. Cleaner Code:\n",
        "It reduces boilerplate code and makes it easier to read and maintain by handling resource management in a structured way."
      ],
      "metadata": {
        "id": "9dCDur7Lf0qX"
      }
    },
    {
      "cell_type": "code",
      "source": [
        "#Ex\n",
        "# Using the `with` statement to open a file and automatically close it after usage\n",
        "with open(\"example.txt\", \"r\") as file:\n",
        "    content = file.read()\n",
        "    print(content)\n",
        "\n",
        "# No need to explicitly close the file, `file.close()` is automatically called\n"
      ],
      "metadata": {
        "id": "6LWNXRi-gf1n"
      },
      "execution_count": null,
      "outputs": []
    },
    {
      "cell_type": "markdown",
      "source": [
        "How it works:\\\n",
        "The open(\"example.txt\", \"r\") method is called, and the file is assigned to the file object.\\\n",
        "Once the block of code inside the with statement finishes executing, the file is automatically closed, even if an exception occurs.\n",
        "\n",
        "Key Benefits of Using with for File Handling\\\n",
        "Simplifies code: Reduces the need for explicit cleanup (file.close()).\\\n",
        "Improves error handling: Ensures that resources are properly released even in the event of exceptions.\\\n",
        "Enhances readability: Makes it clear that a resource is being managed and automatically cleaned up.\n"
      ],
      "metadata": {
        "id": "gEEFxgJwgrKV"
      }
    },
    {
      "cell_type": "markdown",
      "source": [
        "9. What is the difference between multithreading and multiprocessing ?\n",
        "\n",
        "Solution:\n",
        " 1. Multithreading\\\n",
        "Definition: Multithreading is a technique where multiple threads (smaller units of a process) are executed concurrently within the same process. All threads share the same memory space and resources.\\\n",
        "Concurrency Type: \tConcurrency within a single process.\\\n",
        "GIL (Global Interpreter Lock): Affects CPU-bound tasks, limiting true parallelism.\\\n",
        "Best for: I/O-bound tasks (networking, file I/O, etc.).\\\n",
        "Memory Usage: Shared memory space, less memory overhead.\\\n",
        "Performance: Limited parallelism due to GIL for CPU-bound tasks.\\\n",
        "Complexity: Easier to implement and use, lightweight.\n",
        "\n",
        "2.  Multiprocessing\\\n",
        "Definition: Multiprocessing involves running multiple processes concurrently, where each process has its own memory space and Python interpreter. This allows for true parallelism and is suitable for CPU-bound tasks.\\\n",
        "Concurrency Type: True parallelism, each process has its own memory space.\\\n",
        "GIL (Global Interpreter Lock): No GIL, so true parallelism is possible.\\\n",
        "Best for: CPU-bound tasks (heavy computation, data processing).\\\n",
        "Memory Usage: Each process has its own memory space, higher memory consumption.\\\n",
        "Performance: True parallelism, better performance for CPU-bound tasks.\\\n",
        "Complexity: More complex, requires inter-process communication.\n",
        "\n",
        "\n"
      ],
      "metadata": {
        "id": "W1oE3X6OhFmU"
      }
    },
    {
      "cell_type": "code",
      "source": [
        "#Ex Multithreading\n",
        "import threading\n",
        "\n",
        "def task():\n",
        "    print(\"Thread is running\")\n",
        "\n",
        "# Creating two threads\n",
        "thread1 = threading.Thread(target=task)\n",
        "thread2 = threading.Thread(target=task)\n",
        "\n",
        "thread1.start()\n",
        "thread2.start()\n",
        "\n",
        "thread1.join()\n",
        "thread2.join()\n"
      ],
      "metadata": {
        "colab": {
          "base_uri": "https://localhost:8080/"
        },
        "id": "BKeG4L5djfb2",
        "outputId": "3a6a19c2-ceab-4413-a65a-2572caeebf40"
      },
      "execution_count": null,
      "outputs": [
        {
          "output_type": "stream",
          "name": "stdout",
          "text": [
            "Thread is runningThread is running\n",
            "\n"
          ]
        }
      ]
    },
    {
      "cell_type": "code",
      "source": [
        "#EX Multiprocessing\n",
        "import multiprocessing\n",
        "\n",
        "def task():\n",
        "    print(\"Process is running\")\n",
        "\n",
        "# Creating two processes\n",
        "process1 = multiprocessing.Process(target=task)\n",
        "process2 = multiprocessing.Process(target=task)\n",
        "\n",
        "process1.start()\n",
        "process2.start()\n",
        "\n",
        "process1.join()\n",
        "process2.join()\n"
      ],
      "metadata": {
        "colab": {
          "base_uri": "https://localhost:8080/"
        },
        "id": "SBXbfD3ijgeh",
        "outputId": "2ccfd80d-7987-48f1-d6b2-69eb68993a9d"
      },
      "execution_count": null,
      "outputs": [
        {
          "output_type": "stream",
          "name": "stdout",
          "text": [
            "Process is running\n",
            "Process is running\n"
          ]
        }
      ]
    },
    {
      "cell_type": "markdown",
      "source": [
        "10. What are the advantages of using logging in a program?\n",
        "\n",
        "Solution: The advantages of using logging in a program are as follows:\n",
        "\n",
        "1. Better Debugging and Troubleshooting\\\n",
        "Logging provides detailed information about the program's execution, including errors, warnings, and informational messages. This can be invaluable when debugging or diagnosing issues in production systems.\n",
        "Logs can track the flow of the program, showing where things went wrong, without interrupting the program's normal operation (as print statements do).\n",
        "2. Configurable Logging Levels\\\n",
        "Python's logging module allows you to set different logging levels, such as DEBUG, INFO, WARNING, ERROR, and CRITICAL. This helps categorize messages based on their severity.\n",
        "You can easily control the verbosity of logs based on the environment (e.g., DEBUG level for development and WARNING or ERROR for production).\n",
        "3. Persistent Log Storage\\\n",
        "Logs can be written to files, databases, or even external systems, which means the log data can persist across sessions, allowing you to review the history of events and program behavior over time.\n",
        "This helps when you need to review past issues or understand trends in system behavior.\n",
        "4. Easy Integration with External Systems\\\n",
        "The logging module allows integration with external log management systems or services. For example, logs can be sent to cloud-based monitoring services, making it easier to track and monitor the application’s health.\n",
        "This integration can automate alerting and reporting for critical issues, improving overall system observability.\n",
        "5. Avoiding Hardcoding Debug Statements\\\n",
        "Unlike print statements, which require manual removal or commenting out before deployment, logging provides a more structured way to record diagnostic messages without cluttering the code.\n",
        "With logging, you can control the logging output (e.g., to a file or console) without modifying the program's source code.\n",
        "6. Increased Flexibility and Control\\\n",
        "The logging framework is highly configurable. You can adjust log formatting (timestamps, log levels, message content), choose different output destinations (console, files, remote servers), and even implement custom log handlers.\n",
        "This flexibility makes it easier to maintain and adapt logging as the application evolves or if requirements change."
      ],
      "metadata": {
        "id": "ATt8uHR8jvwA"
      }
    },
    {
      "cell_type": "markdown",
      "source": [
        "11. What is memory management in Python?\n",
        "\n",
        "Solution: Memory management in Python refers to the process of efficiently allocating, tracking, and releasing memory used by the program during execution. Python handles memory management automatically, but understanding how it works can help optimize performance and avoid memory issues.\\\n",
        "Some aspects of memory management in Python are:\n",
        "1. Automatic Garbage Collection\\\n",
        "Python uses **automatic garbage collection** to free up unused memory by reclaiming memory from objects no longer in use. It relies on **reference counting** to track the number of references to an object. When the reference count drops to zero, the memory occupied by the object is automatically reclaimed.\n",
        "2. Reference Counting\\\n",
        "In Python, every object has a reference count that tracks how many references point to it. When an object is created, its reference count increases, and when a reference is deleted or goes out of scope, the count decreases. When the reference count reaches zero, the object is automatically deallocated.\n",
        "3. Garbage Collector (GC)\\\n",
        "Python's garbage collector is responsible for cleaning up objects involved in circular references (e.g., two objects referring to each other). These cannot be cleaned up by reference counting alone, so the GC is designed to detect and collect them.\n",
        "Python uses the gc module for manual interaction with the garbage collector, allowing you to disable, enable, or trigger garbage collection.\n",
        "4. Memory Pools and Allocation\\\n",
        "Python uses an internal memory allocator called Pymalloc, which manages memory in pools. This helps reduce fragmentation and improves performance when allocating small objects.\n",
        "It optimizes memory allocation by creating pools for small objects (typically less than 512 bytes) and allocating memory in blocks.\n",
        "5. Memory Leaks\\\n",
        "Even though Python handles garbage collection, memory leaks can still occur if objects are unintentionally retained, such as in cases of circular references or global variables that prevent objects from being garbage collected.\n",
        "6. del and gc.collect()\\\n",
        "You can manually delete objects using the del keyword, which decreases the reference count. However, it does not guarantee that the object will be immediately deleted if there are still references to it.\n",
        "The gc.collect() method can be used to force garbage collection.\n"
      ],
      "metadata": {
        "id": "fwiuLzVhlcx9"
      }
    },
    {
      "cell_type": "markdown",
      "source": [
        "12.  What are the basic steps involved in exception handling in Python ?\n",
        "\n",
        "Solution: The basic steps involved in exception handling in Python are as follows:\n",
        "\n",
        "1. Try Block:\n",
        "Enclose the code that may raise an exception within a try block. This is where the program attempts to execute the code.\n",
        "\n",
        "try:\n",
        "    # Code that may raise an exception\n",
        "2. Except Block:\n",
        "If an exception occurs in the try block, the program jumps to the except block, where you can handle the exception.\n",
        "You can specify the type of exception to catch specific errors or use a generic except to catch all exceptions.\n",
        "\n",
        "except ExceptionType as e:\n",
        "    # Handle the exception\n",
        "    print(f\"An error occurred: {e}\")\n",
        "3. Else Block (Optional): If no exception occurs in the try block, the else block is executed. This is typically used for code that should run if everything in the try block succeeds.\n",
        "\n",
        "else:\n",
        "    # Code to execute if no exception occurred\n",
        "4. Finally Block (Optional):\n",
        "The finally block is executed no matter what, whether an exception occurred or not. It's often used for cleanup operations, like closing files or releasing resources.\n",
        "\n",
        "finally:\n",
        "    # Code to always execute (e.g., cleanup)\n",
        "\n",
        "\n"
      ],
      "metadata": {
        "id": "iWEasy7Mmtvt"
      }
    },
    {
      "cell_type": "code",
      "source": [
        "#Ex\n",
        "try:\n",
        "    x = 10 / 0  # Division by zero raises an exception\n",
        "except ZeroDivisionError as e:\n",
        "    print(f\"Error: {e}\")\n",
        "else:\n",
        "    print(\"No error occurred\")\n",
        "finally:\n",
        "    print(\"Cleanup done\")\n"
      ],
      "metadata": {
        "colab": {
          "base_uri": "https://localhost:8080/"
        },
        "id": "BbiH_5Kgjr3L",
        "outputId": "8d4200e4-3573-4078-d10a-0fdfe46e8992"
      },
      "execution_count": null,
      "outputs": [
        {
          "output_type": "stream",
          "name": "stdout",
          "text": [
            "Error: division by zero\n",
            "Cleanup done\n"
          ]
        }
      ]
    },
    {
      "cell_type": "markdown",
      "source": [
        "13.  Why is memory management important in Python?\n",
        "\n",
        "Solution: Memory management is important in Python for several reasons:\n",
        "\n",
        "1. **Efficient Use of Resources**:\n",
        "   - Proper memory management ensures that memory is used efficiently, minimizing wastage and maximizing the performance of the program.\n",
        "   - Python automatically manages memory, but inefficient memory handling can still lead to unnecessary memory consumption, especially in large programs.\n",
        "\n",
        "2. **Avoiding Memory Leaks**:\n",
        "   - If objects are not properly deallocated when no longer needed, they can cause memory leaks, leading to excessive memory usage and potential program crashes.\n",
        "   - Memory management in Python, through reference counting and garbage collection, helps reduce the risk of memory leaks.\n",
        "\n",
        "3. **Performance Optimization**:\n",
        "   - Efficient memory usage improves the overall performance of the program by preventing slowdowns caused by excessive memory usage.\n",
        "   - Optimizing memory allocation for large datasets or complex operations can significantly enhance processing speed.\n",
        "\n",
        "4. **System Stability**:\n",
        "   - Poor memory management can lead to **out-of-memory** errors, causing the program to crash or behave unpredictably.\n",
        "   - Proper memory handling ensures the stability of the program, especially when running in production environments with limited resources.\n",
        "\n",
        "5. **Garbage Collection**:\n",
        "   - Python’s garbage collector helps reclaim memory by cleaning up unused objects, reducing the need for manual memory management.\n",
        "   - Proper understanding of how Python handles memory, including garbage collection, helps developers write more efficient and error-free code."
      ],
      "metadata": {
        "id": "_U8SffFgoCwR"
      }
    },
    {
      "cell_type": "markdown",
      "source": [
        "14.  What is the role of try and except in exception handling?\n",
        "\n",
        "Solution: The role of **`try`** and **`except`** in exception handling is to catch and handle errors that occur during program execution, allowing the program to continue running without crashing. Here’s how they work:\n",
        "\n",
        "### 1. **`try` Block**:\n",
        "   - The `try` block contains the code that might raise an exception (an error). When the code inside the `try` block runs, Python checks for errors.\n",
        "   - If no errors occur, the program continues executing the code after the `try` block.\n",
        "\n",
        "### 2. **`except` Block**:\n",
        "   - If an error (exception) occurs within the `try` block, Python jumps to the `except` block to handle the error.\n",
        "   - You can specify which type of exception to catch (e.g., `ZeroDivisionError`, `FileNotFoundError`), or use a generic `except` to catch any exception.\n",
        "   - The `except` block allows you to handle the error (e.g., print an error message or perform corrective actions) and keep the program from crashing.\n",
        "\n",
        "In this example:\n",
        "- The `try` block contains code that might raise a `ZeroDivisionError`.\n",
        "- The `except` block catches this specific exception and prints an error message, preventing the program from crashing."
      ],
      "metadata": {
        "id": "hEgXvU5spfzU"
      }
    },
    {
      "cell_type": "code",
      "source": [
        "try:\n",
        "    x = 10 / 0  # Division by zero raises an exception\n",
        "except ZeroDivisionError as e:\n",
        "    print(f\"Error: {e}\")  # Handle the error\n"
      ],
      "metadata": {
        "colab": {
          "base_uri": "https://localhost:8080/"
        },
        "id": "UUjFLTu2n8qt",
        "outputId": "46644fee-cd71-49d8-d177-b18741c03377"
      },
      "execution_count": null,
      "outputs": [
        {
          "output_type": "stream",
          "name": "stdout",
          "text": [
            "Error: division by zero\n"
          ]
        }
      ]
    },
    {
      "cell_type": "markdown",
      "source": [
        "15.  How does Python's garbage collection system work?\n",
        "\n",
        "Solution: The role of **`try`** and **`except`** in exception handling is to catch and handle errors that occur during program execution, allowing the program to continue running without crashing. Here’s how they work:\n",
        "\n",
        "### 1. **`try` Block**:\n",
        "   - The `try` block contains the code that might raise an exception (an error). When the code inside the `try` block runs, Python checks for errors.\n",
        "   - If no errors occur, the program continues executing the code after the `try` block.\n",
        "\n",
        "### 2. **`except` Block**:\n",
        "   - If an error (exception) occurs within the `try` block, Python jumps to the `except` block to handle the error.\n",
        "   - You can specify which type of exception to catch (e.g., `ZeroDivisionError`, `FileNotFoundError`), or use a generic `except` to catch any exception.\n",
        "   - The `except` block allows you to handle the error (e.g., print an error message or perform corrective actions) and keep the program from crashing.\n",
        "\n",
        "In this example:\n",
        "- The `try` block contains code that might raise a `ZeroDivisionError`.\n",
        "- The `except` block catches this specific exception and prints an error message, preventing the program from crashing.\n",
        "\n",
        "\n"
      ],
      "metadata": {
        "id": "ltE8utI6qX4A"
      }
    },
    {
      "cell_type": "code",
      "source": [
        "try:\n",
        "    x = 10 / 0  # Division by zero raises an exception\n",
        "except ZeroDivisionError as e:\n",
        "    print(f\"Error: {e}\")  # Handle the error\n"
      ],
      "metadata": {
        "colab": {
          "base_uri": "https://localhost:8080/"
        },
        "id": "6BGSo5WOp_U7",
        "outputId": "3a5bf0ac-e0b9-4dc8-9070-13f757de018e"
      },
      "execution_count": null,
      "outputs": [
        {
          "output_type": "stream",
          "name": "stdout",
          "text": [
            "Error: division by zero\n"
          ]
        }
      ]
    },
    {
      "cell_type": "markdown",
      "source": [
        "16. What is the purpose of the else block in exception handling?\n",
        "\n",
        "Solution: The purpose of the **`else` block** in Python exception handling is to execute code that should run **only if no exception occurs** in the `try` block. It allows you to separate the successful execution path from error-handling code, improving readability and structure.\n",
        "\n",
        "### **Key Points:**\n",
        "1. **Executed After `try`, If No Exception**:\n",
        "   - The `else` block runs only if the `try` block completes successfully without any exceptions being raised.\n",
        "\n",
        "2. **Avoids Mixing Logic**:\n",
        "   - It ensures that the code meant for successful execution is not mixed with error-handling code in the `except` block.\n",
        "\n",
        "3. **Optional Usage**:\n",
        "   - The `else` block is optional and can be omitted if not needed.\n",
        "\n",
        "If an exception occurs in the `try` block (e.g., division by zero), the `else` block is skipped, and the program goes directly to the `except` block.\\\n",
        "The `else` block is used for code that should execute only if the `try` block succeeds without exceptions. It improves code organization by separating normal execution from exception handling."
      ],
      "metadata": {
        "id": "X8WkZgOaXunU"
      }
    },
    {
      "cell_type": "code",
      "source": [
        "#Ex\n",
        "try:\n",
        "    result = 10 / 2  # No exception here\n",
        "except ZeroDivisionError as e:\n",
        "    print(f\"Error: {e}\")\n",
        "else:\n",
        "    print(f\"Operation successful, result is {result}\")  # Executed only if no exception occurs\n"
      ],
      "metadata": {
        "colab": {
          "base_uri": "https://localhost:8080/"
        },
        "id": "7o7O3QGLrIzE",
        "outputId": "3117f2d5-09e9-4559-bb3d-9cb9da41760b"
      },
      "execution_count": null,
      "outputs": [
        {
          "output_type": "stream",
          "name": "stdout",
          "text": [
            "Operation successful, result is 5.0\n"
          ]
        }
      ]
    },
    {
      "cell_type": "markdown",
      "source": [
        "17. What are the common logging levels in Python?\n",
        "\n",
        "Solution: Python provides several logging levels to indicate the severity of events in an application. Here are the common logging levels in Python:\n",
        "\n",
        "1. **DEBUG (10)**:\n",
        "   - Used for detailed information, typically of interest only when diagnosing problems.\n",
        "   - Example: Tracking variables or the flow of a program.\n",
        "   - **Message Example**: \"Connecting to database: test_db.\"\n",
        "\n",
        "2. **INFO (20)**:\n",
        "   - Used to confirm that things are working as expected.\n",
        "   - Example: General information about program execution or milestones.\n",
        "   - **Message Example**: \"User login successful.\"\n",
        "\n",
        "3. **WARNING (30)**:\n",
        "   - Indicates a potential issue or unexpected situation that does not prevent the program from running but might need attention.\n",
        "   - Example: A deprecated function or configuration issue.\n",
        "   - **Message Example**: \"Disk space is low.\"\n",
        "\n",
        "4. **ERROR (40)**:\n",
        "   - Indicates a more serious problem that prevents some part of the program from functioning.\n",
        "   - Example: An exception that is caught and handled.\n",
        "   - **Message Example**: \"File not found: config.yaml.\"\n",
        "\n",
        "5. **CRITICAL (50)**:\n",
        "   - Indicates a very serious error or a program-wide failure, such as an unrecoverable issue.\n",
        "   - Example: System shutdown due to critical resource unavailability.\n",
        "   - **Message Example**: \"System out of memory, shutting down.\"\n",
        "\n",
        "By default, the logging module displays messages at the **WARNING** level and above. To see messages for lower levels (e.g., DEBUG, INFO), one must explicitly configure the logging level. \\\n",
        "Hence,The common logging levels in Python are **DEBUG**, **INFO**, **WARNING**, **ERROR**, and **CRITICAL**, each representing increasing levels of severity."
      ],
      "metadata": {
        "id": "Agf1czW3YYCN"
      }
    },
    {
      "cell_type": "code",
      "source": [
        "#Ex\n",
        "import logging\n",
        "\n",
        "logging.basicConfig(level=logging.DEBUG)\n",
        "\n",
        "logging.debug(\"This is a debug message.\")\n",
        "logging.info(\"This is an info message.\")\n",
        "logging.warning(\"This is a warning message.\")\n",
        "logging.error(\"This is an error message.\")\n",
        "logging.critical(\"This is a critical message.\")\n"
      ],
      "metadata": {
        "colab": {
          "base_uri": "https://localhost:8080/"
        },
        "id": "yrcbcQ0CYWQy",
        "outputId": "780c77eb-2131-4b88-e822-b9d2d2163538"
      },
      "execution_count": null,
      "outputs": [
        {
          "output_type": "stream",
          "name": "stderr",
          "text": [
            "WARNING:root:This is a warning message.\n",
            "ERROR:root:This is an error message.\n",
            "CRITICAL:root:This is a critical message.\n"
          ]
        }
      ]
    },
    {
      "cell_type": "markdown",
      "source": [
        "17. What is the difference between os.fork() and multiprocessing in Python?\n",
        "\n",
        "Solution: The primary difference between **`os.fork()`** and the **`multiprocessing`** module in Python lies in their implementation, usability, and platform support. Here's a detailed comparison:\n",
        "\n",
        "### **1. Definition and Purpose**\n",
        "\n",
        "- **`os.fork()`**:\n",
        "  - Creates a new process (child process) by duplicating the current process (parent process).\n",
        "  - It is a low-level system call provided by the operating system.\n",
        "  - Commonly used in UNIX-based systems (like Linux and macOS) for process creation.\n",
        "\n",
        "- **`multiprocessing`**:\n",
        "  - A high-level Python module designed for creating and managing processes easily.\n",
        "  - Abstracts process creation and provides tools like process pools, shared memory, and inter-process communication (IPC).\n",
        "\n",
        "### **2. Platform Support**\n",
        "\n",
        "- **`os.fork()`**:\n",
        "  - Only available on UNIX-based systems.\n",
        "  - Not supported on Windows.\n",
        "\n",
        "- **`multiprocessing`**:\n",
        "  - Cross-platform support (works on UNIX, Windows, macOS, etc.).\n",
        "  - Adapts process creation mechanisms to the underlying operating system.\n",
        "\n",
        "### **3. Ease of Use**\n",
        "\n",
        "- **`os.fork()`**:\n",
        "  - Requires manual management of the parent and child process.\n",
        "  - Developers must handle process synchronization, communication, and cleanup explicitly.\n",
        "  - Can be complex and error-prone for larger programs.\n",
        "\n",
        "- **`multiprocessing`**:\n",
        "  - Provides a user-friendly API for creating and managing processes.\n",
        "  - Offers utilities like `Process` class, `Queue`, `Pipe`, and `Pool` for communication and synchronization.\n",
        "\n",
        "### **4. Process Communication**\n",
        "\n",
        "- **`os.fork()`**:\n",
        "  - No built-in support for communication between processes. Must use low-level IPC mechanisms like pipes or shared memory manually.\n",
        "\n",
        "- **`multiprocessing`**:\n",
        "  - Provides built-in tools for communication (e.g., `Queue`, `Pipe`) and shared memory, making it easier to share data between processes.\n",
        "\n",
        "### **5. Use Cases**\n",
        "\n",
        "- **`os.fork()`**:\n",
        "  - Used in low-level programming where fine control over processes is required.\n",
        "  - Often found in server or system-level programming in UNIX-based environments.\n",
        "\n",
        "- **`multiprocessing`**:\n",
        "  - Ideal for Python programs that need to leverage multi-core processors for parallelism.\n",
        "  - Preferred for general-purpose concurrent programming.\n",
        "\n",
        "### **Diff. Table**\n",
        "\n",
        "| Feature               | `os.fork()`                  | `multiprocessing`               |\n",
        "|-----------------------|-----------------------------|---------------------------------|\n",
        "| **Platform**          | UNIX-based only             | Cross-platform                 |\n",
        "| **Level**             | Low-level system call       | High-level Python abstraction  |\n",
        "| **Ease of Use**       | Complex                     | Easy                           |\n",
        "| **Communication**     | Manual (e.g., pipes, IPC)   | Built-in (e.g., `Queue`, `Pipe`)|\n",
        "| **Best Use Case**     | System-level programming    | General-purpose parallelism    |\n",
        "\n",
        "Use **`multiprocessing`** for most Python applications, especially if you need cross-platform compatibility and higher-level process management."
      ],
      "metadata": {
        "id": "QTVgfryMZTzP"
      }
    },
    {
      "cell_type": "code",
      "source": [
        "#Ex os.fork()\n",
        "import os\n",
        "pid = os.fork()\n",
        "if pid == 0:\n",
        "    # Child process\n",
        "    print(\"This is the child process\")\n",
        "else:\n",
        "    # Parent process\n",
        "    print(\"This is the parent process\")\n"
      ],
      "metadata": {
        "colab": {
          "base_uri": "https://localhost:8080/"
        },
        "id": "4g2kV9h5ZOdy",
        "outputId": "dae86476-e3f6-4a24-9db3-cc556a05fbe7"
      },
      "execution_count": null,
      "outputs": [
        {
          "output_type": "stream",
          "name": "stdout",
          "text": [
            "This is the parent process\n",
            "This is the child process\n"
          ]
        }
      ]
    },
    {
      "cell_type": "code",
      "source": [
        "#Ex multiprocessing\n",
        "from multiprocessing import Process\n",
        "def child_process():\n",
        "    print(\"This is the child process\")\n",
        "if __name__ == \"__main__\":\n",
        "    p = Process(target=child_process)\n",
        "    p.start()\n",
        "    p.join()\n",
        "    print(\"This is the parent process\")\n"
      ],
      "metadata": {
        "colab": {
          "base_uri": "https://localhost:8080/"
        },
        "id": "XKe18tB_aL4H",
        "outputId": "1fc8babc-b418-483f-823e-f9c5ee711986"
      },
      "execution_count": null,
      "outputs": [
        {
          "output_type": "stream",
          "name": "stdout",
          "text": [
            "This is the child process\n",
            "This is the parent process\n"
          ]
        }
      ]
    },
    {
      "cell_type": "markdown",
      "source": [
        "19.  What is the importance of closing a file in Python?\n",
        "\n",
        "Solution: Closing a file in Python is crucial for proper resource management and ensuring data integrity. Here are the key reasons why it is important:\n",
        "\n",
        "### **1. Freeing System Resources**:\n",
        "   - When a file is open, it occupies system resources such as file descriptors. Closing the file releases these resources, making them available for other processes.\n",
        "\n",
        "### **2. Flushing Data to Disk**:\n",
        "   - If a file is opened in write mode, changes are often buffered in memory. Closing the file ensures that all data is flushed from the buffer and written to the disk, preventing data loss.\n",
        "\n",
        "### **3. Preventing File Corruption**:\n",
        "   - Failing to close a file after writing or updating it can leave the file in an inconsistent state, potentially corrupting its contents.\n",
        "\n",
        "### **4. Avoiding File Locks**:\n",
        "   - On some systems, open files may be locked, preventing other processes from accessing them. Closing the file removes these locks, allowing shared access.\n",
        "\n",
        "### **5. Good Programming Practice**:\n",
        "   - Explicitly closing files demonstrates responsible resource management and avoids potential issues like memory leaks or unintended behavior.\n",
        "### **Using `with` Statement for Automatic Closure**:\n",
        "The `with` statement automatically closes the file after its block is executed, even if an exception occurs.\n",
        "```python\n",
        "with open(\"example.txt\", \"w\") as file:\n",
        "    file.write(\"Hello, world!\")  # File is closed automatically after this block."
      ],
      "metadata": {
        "id": "8dIDtEFQa810"
      }
    },
    {
      "cell_type": "code",
      "source": [
        "# Example without closing (bad practice)\n",
        "file = open(\"example.txt\", \"w\")\n",
        "file.write(\"Hello, world!\")\n",
        "# Forgetting to close the file risks data loss or resource issues\n",
        "\n",
        "# Example with closing (good practice)\n",
        "file = open(\"example.txt\", \"w\")\n",
        "file.write(\"Hello, world!\")\n",
        "file.close()\n"
      ],
      "metadata": {
        "id": "TmDeMGJnae-1"
      },
      "execution_count": null,
      "outputs": []
    },
    {
      "cell_type": "markdown",
      "source": [
        "20. What is the difference between file.read() and file.readline() in Python?\n",
        "\n",
        "Solution: The difference between **`file.read()`** and **`file.readline()`** in Python lies in how they handle reading from a file:\n",
        "\n",
        "### **1. `file.read()`**\n",
        "- **Reads the Entire Content**:\n",
        "  - Reads the entire content of the file or a specified number of characters at once.\n",
        "- **Return Type**:\n",
        "  - Returns the content as a single string.\n",
        "- **Use Case**:\n",
        "  - Used when you need the complete file content in memory for processing.\n",
        "- **Parameters**:\n",
        "  - Optional `size` parameter to specify the number of characters to read. If omitted, it reads the whole file.\n",
        "\n",
        "### **2. `file.readline()`**\n",
        "- **Reads One Line at a Time**:\n",
        "  - Reads a single line from the file up to the newline character (`\\n`).\n",
        "- **Return Type**:\n",
        "  - Returns the line as a string, including the newline character (if present).\n",
        "- **Use Case**:\n",
        "  - Useful for processing files line by line, especially when dealing with large files.\n",
        "- **Parameters**:\n",
        "  - Optional `size` parameter to specify the maximum number of characters to read from the line.\n",
        "\n",
        "### **Key Differences**:\n",
        "\n",
        "| Feature                | `file.read()`                           | `file.readline()`                       |\n",
        "|------------------------|-----------------------------------------|-----------------------------------------|\n",
        "| **Scope**             | Reads the entire file (or specified size). | Reads one line at a time.              |\n",
        "| **Return Type**       | Returns all content as a single string.   | Returns a single line as a string.     |\n",
        "| **Memory Usage**      | Can consume more memory for large files.  | Efficient for large files.             |\n",
        "| **Use Case**          | When you need all data at once.           | When processing file line by line.     |\n",
        "\n"
      ],
      "metadata": {
        "id": "rniZLnp0b_Oi"
      }
    },
    {
      "cell_type": "code",
      "source": [
        "#Ex file.read()\n",
        "with open(\"example.txt\", \"r\") as file:\n",
        "    content = file.read()  # Reads the entire file\n",
        "    print(content)\n"
      ],
      "metadata": {
        "colab": {
          "base_uri": "https://localhost:8080/"
        },
        "id": "usiNXXIXblNm",
        "outputId": "2ffda891-2b3f-45a0-b1c5-ce07e60c831a"
      },
      "execution_count": null,
      "outputs": [
        {
          "output_type": "stream",
          "name": "stdout",
          "text": [
            "Hello, world!\n"
          ]
        }
      ]
    },
    {
      "cell_type": "code",
      "source": [
        "#Ex file.readline()\n",
        "with open(\"example.txt\", \"r\") as file:\n",
        "    line = file.readline()  # Reads the first line\n",
        "    print(line)\n"
      ],
      "metadata": {
        "colab": {
          "base_uri": "https://localhost:8080/"
        },
        "id": "Q8LIHROvdcUf",
        "outputId": "18f018cc-220a-497d-ff65-7e7ef35f26a8"
      },
      "execution_count": null,
      "outputs": [
        {
          "output_type": "stream",
          "name": "stdout",
          "text": [
            "Hello, world!\n"
          ]
        }
      ]
    },
    {
      "cell_type": "markdown",
      "source": [
        "21. What is the logging module in Python used for?\n",
        "\n",
        "Solution: The **logging module** in Python is used to record (log) messages about a program's execution. It is a powerful, flexible tool for tracking events, diagnosing problems, and auditing the behavior of applications, especially in production environments.\n",
        "### **Key Purposes of the Logging Module**:\n",
        "\n",
        "1. **Debugging**:\n",
        "   - Helps track and diagnose issues by logging detailed information during development.\n",
        "   - Example: Recording the flow of execution or variable states.\n",
        "\n",
        "2. **Monitoring**:\n",
        "   - Logs critical events to monitor application behavior and performance over time.\n",
        "   - Example: Recording user activity or system errors in a web application.\n",
        "\n",
        "3. **Error Tracking**:\n",
        "   - Captures and logs errors and exceptions for analysis and troubleshooting.\n",
        "   - Example: Logging a stack trace when an exception occurs.\n",
        "\n",
        "4. **Audit Trails**:\n",
        "   - Maintains a record of operations performed by the system or users for compliance and auditing purposes.\n",
        "   - Example: Logging user login and logout events.\n",
        "### **Features of the Logging Module**:\n",
        "- **Log Levels**: Supports different severity levels (e.g., `DEBUG`, `INFO`, `WARNING`, `ERROR`, `CRITICAL`) to categorize messages.\n",
        "- **Configurable Output**: Logs can be directed to various outputs like the console, files, or external services.\n",
        "- **Formatting**: Supports customizable message formats to include timestamps, log levels, and more.\n",
        "- **Hierarchical Logging**: Allows defining multiple loggers with a hierarchy for modular applications."
      ],
      "metadata": {
        "id": "7ccuMahmdmQS"
      }
    },
    {
      "cell_type": "code",
      "source": [
        "#Ex\n",
        "logger = logging.getLogger(__name__)\n",
        "logger.setLevel(logging.DEBUG)\n",
        "handler = logging.StreamHandler()\n",
        "handler.setFormatter(logging.Formatter('%(levelname)s: %(message)s'))\n",
        "logger.addHandler(handler)\n",
        "\n",
        "logger.debug(\"This is a debug message.\")\n",
        "logger.info(\"This is an info message.\")\n",
        "logger.warning(\"This is a warning message.\")\n",
        "logger.error(\"This is an error message.\")\n",
        "logger.critical(\"This is a critical message.\")\n"
      ],
      "metadata": {
        "colab": {
          "base_uri": "https://localhost:8080/"
        },
        "id": "M-nVJicTdieN",
        "outputId": "68a9de15-6507-4cfc-9794-906ddfc06858"
      },
      "execution_count": null,
      "outputs": [
        {
          "output_type": "stream",
          "name": "stderr",
          "text": [
            "DEBUG: This is a debug message.\n",
            "DEBUG:__main__:This is a debug message.\n",
            "INFO: This is an info message.\n",
            "INFO:__main__:This is an info message.\n",
            "WARNING: This is a warning message.\n",
            "WARNING:__main__:This is a warning message.\n",
            "ERROR: This is an error message.\n",
            "ERROR:__main__:This is an error message.\n",
            "CRITICAL: This is a critical message.\n",
            "CRITICAL:__main__:This is a critical message.\n"
          ]
        }
      ]
    },
    {
      "cell_type": "markdown",
      "source": [
        "22. What is the os module in Python used for in file handling?\n",
        "\n",
        "Solution: The **`os` module** in Python provides functions to interact with the operating system. It is widely used for file handling and directory operations. Here’s how the `os` module is helpful in file handling:\n",
        "\n",
        "---\n",
        "\n",
        "### **Key Uses of `os` Module in File Handling**:\n",
        "\n",
        "1. **Working with Files**:\n",
        "   - **Check File Existence**: Verify if a file exists using `os.path.exists()`.\n",
        "     ```python\n",
        "     import os\n",
        "     print(os.path.exists(\"example.txt\"))  # Output: True/False\n",
        "     ```\n",
        "   - **Delete Files**: Remove a file using `os.remove()`.\n",
        "     ```python\n",
        "     os.remove(\"example.txt\")  # Deletes the file\n",
        "     ```\n",
        "\n",
        "2. **Creating and Removing Directories**:\n",
        "   - **Create Directory**: Create a new directory using `os.mkdir()`.\n",
        "     ```python\n",
        "     os.mkdir(\"new_folder\")  # Creates a folder named \"new_folder\"\n",
        "     ```\n",
        "   - **Remove Directory**: Remove an empty directory using `os.rmdir()`.\n",
        "     ```python\n",
        "     os.rmdir(\"new_folder\")  # Deletes the folder\n",
        "     ```\n",
        "\n",
        "3. **Directory Navigation**:\n",
        "   - **Change Current Directory**: Navigate to a different directory using `os.chdir()`.\n",
        "     ```python\n",
        "     os.chdir(\"/path/to/directory\")  # Changes the working directory\n",
        "     ```\n",
        "   - **Get Current Directory**: Get the current working directory using `os.getcwd()`.\n",
        "     ```python\n",
        "     print(os.getcwd())  # Outputs the current directory path\n",
        "     ```\n",
        "\n",
        "4. **Listing Files and Directories**:\n",
        "   - List the contents of a directory using `os.listdir()`.\n",
        "     ```python\n",
        "     print(os.listdir(\".\"))  # Lists all files and folders in the current directory\n",
        "     ```\n",
        "\n",
        "5. **Renaming and Moving Files**:\n",
        "   - **Rename Files**: Change the name of a file using `os.rename()`.\n",
        "     ```python\n",
        "     os.rename(\"old_name.txt\", \"new_name.txt\")  # Renames the file\n",
        "     ```\n",
        "\n",
        "6. **File Metadata**:\n",
        "   - **Get File Size**: Retrieve the size of a file using `os.path.getsize()`.\n",
        "     ```python\n",
        "     size = os.path.getsize(\"example.txt\")  # Returns file size in bytes\n",
        "     print(size)\n",
        "     \n",
        "### **Why Use the `os` Module for File Handling?**\n",
        "- **Cross-Platform Compatibility**: Abstracts system-level differences, allowing code to work on different operating systems (e.g., Windows, Linux, macOS).\n",
        "- **Convenience**: Provides a wide range of built-in utilities for common file and directory operations.\n",
        "- **Integration**: Combines well with other Python libraries for managing file systems programmatically."
      ],
      "metadata": {
        "id": "ZCB-DxEEfGtS"
      }
    },
    {
      "cell_type": "markdown",
      "source": [
        "23. What are the challenges associated with memory management in Python?\n",
        "\n",
        "Solution: Memory management in Python is mostly automated through its garbage collection and dynamic memory allocation systems. However, there are several challenges associated with managing memory effectively:\n",
        "### **1. Memory Leaks**:\n",
        "   - Even though Python has garbage collection, memory leaks can occur due to circular references or global variables that are never released.\n",
        "   - Example: Objects with cyclic dependencies may not be deallocated promptly if the garbage collector fails to clean them up.\n",
        "### **2. High Memory Usage**:\n",
        "   - Python's object-oriented nature and dynamic typing lead to higher memory consumption compared to lower-level languages like C or C++.\n",
        "   - Example: Containers like lists or dictionaries often require more memory than their low-level counterparts.\n",
        "### **3. Fragmentation**:\n",
        "   - Memory fragmentation can occur when repeatedly allocating and deallocating memory, leading to inefficient use of memory space.\n",
        "### **4. Lack of Fine Control**:\n",
        "   - Developers have little control over when and how garbage collection occurs. This can lead to unpredictable memory management behavior.\n",
        "   - Example: Garbage collection may not happen when expected, delaying the release of unused memory.\n",
        "### **5. Managing Large Datasets**:\n",
        "   - When working with large datasets, Python's in-memory data structures may cause excessive memory usage.\n",
        "   - Example: Processing large datasets directly in memory without optimization can lead to memory exhaustion.\n",
        "### **6. Thread Safety and Global Interpreter Lock (GIL)**:\n",
        "   - Python's Global Interpreter Lock (GIL) limits the effective use of memory in multithreaded applications by preventing concurrent execution of Python bytecode.\n",
        "### **7. Delayed Deallocation**:\n",
        "   - Objects involved in circular references may not be garbage collected immediately, leading to temporary memory bloat.\n",
        "   - Example:\n",
        "     ```python\n",
        "     class Node:\n",
        "         def __init__(self):\n",
        "             self.ref = None\n",
        "     a = Node()\n",
        "     b = Node()\n",
        "     a.ref = b\n",
        "     b.ref = a  # Creates a circular reference\n",
        "     del a\n",
        "     del b  # Memory may not be released promptly\n",
        "\n",
        "### **8. Mismanagement of External Resources**:\n",
        "   - Improper handling of file descriptors, sockets, or database connections can result in resource leaks, indirectly affecting memory.\n",
        "\n",
        "### **Mitigation Strategies**:\n",
        "- Use tools like **`gc`** module to monitor and force garbage collection:\n",
        "  ```python\n",
        "  import gc\n",
        "  gc.collect()\n",
        "  ```\n",
        "- Optimize data structures to minimize memory consumption (e.g., use generators instead of lists).\n",
        "- Leverage context managers (`with` statement) to ensure timely release of resources.\n",
        "- Use memory profiling tools like **`tracemalloc`** or **`memory_profiler`** to identify memory bottlenecks."
      ],
      "metadata": {
        "id": "Q07iaIecfozU"
      }
    },
    {
      "cell_type": "markdown",
      "source": [
        "24. How do you raise an exception manually in Python?\n",
        "\n",
        "Solution:  In Python, you can manually raise an exception using the **`raise`** keyword. This allows you to signal that an error or exceptional situation has occurred, even if the program is running correctly otherwise.\n",
        "\n",
        "---\n",
        "\n",
        "### **Syntax**:\n",
        "```python\n",
        "raise ExceptionType(\"Error message\")\n",
        "```\n",
        "\n",
        "Here:\n",
        "- **`ExceptionType`**: The type of exception you want to raise (e.g., `ValueError`, `TypeError`, `KeyError`, or a custom exception class).\n",
        "- **`\"Error message\"`**: An optional message providing details about the exception.\n",
        "\n",
        "### **When to Use**:\n",
        "- To validate conditions in your code and stop execution if they are not met.\n",
        "- To signal errors explicitly in custom logic.\n",
        "- To handle exceptional cases in frameworks or APIs where specific errors need to be raised.\n",
        "\n",
        "### **Best Practices**:\n",
        "- Always use descriptive error messages for better debugging.\n",
        "- Prefer using specific exceptions (e.g., `ValueError`, `TypeError`) over the generic `Exception` to provide clarity."
      ],
      "metadata": {
        "id": "YMMMQX4pgZxN"
      }
    },
    {
      "cell_type": "code",
      "source": [
        "#Examples:\n",
        "## Raising a Built-in Exception:\n",
        "# Example of ValueError\n",
        "value = -5\n",
        "if value < 0:\n",
        "    raise ValueError(\"Value must be non-negative!\")\n",
        "\n",
        "\n"
      ],
      "metadata": {
        "colab": {
          "base_uri": "https://localhost:8080/",
          "height": 211
        },
        "id": "tvnHWogWeMUA",
        "outputId": "07b6d512-4b22-4954-f257-50fb146e2606"
      },
      "execution_count": null,
      "outputs": [
        {
          "output_type": "error",
          "ename": "ValueError",
          "evalue": "Value must be non-negative!",
          "traceback": [
            "\u001b[0;31m---------------------------------------------------------------------------\u001b[0m",
            "\u001b[0;31mValueError\u001b[0m                                Traceback (most recent call last)",
            "\u001b[0;32m<ipython-input-9-0ff7b238dbe3>\u001b[0m in \u001b[0;36m<cell line: 5>\u001b[0;34m()\u001b[0m\n\u001b[1;32m      4\u001b[0m \u001b[0mvalue\u001b[0m \u001b[0;34m=\u001b[0m \u001b[0;34m-\u001b[0m\u001b[0;36m5\u001b[0m\u001b[0;34m\u001b[0m\u001b[0;34m\u001b[0m\u001b[0m\n\u001b[1;32m      5\u001b[0m \u001b[0;32mif\u001b[0m \u001b[0mvalue\u001b[0m \u001b[0;34m<\u001b[0m \u001b[0;36m0\u001b[0m\u001b[0;34m:\u001b[0m\u001b[0;34m\u001b[0m\u001b[0;34m\u001b[0m\u001b[0m\n\u001b[0;32m----> 6\u001b[0;31m     \u001b[0;32mraise\u001b[0m \u001b[0mValueError\u001b[0m\u001b[0;34m(\u001b[0m\u001b[0;34m\"Value must be non-negative!\"\u001b[0m\u001b[0;34m)\u001b[0m\u001b[0;34m\u001b[0m\u001b[0;34m\u001b[0m\u001b[0m\n\u001b[0m\u001b[1;32m      7\u001b[0m \u001b[0;34m\u001b[0m\u001b[0m\n\u001b[1;32m      8\u001b[0m \u001b[0;34m\u001b[0m\u001b[0m\n",
            "\u001b[0;31mValueError\u001b[0m: Value must be non-negative!"
          ]
        }
      ]
    },
    {
      "cell_type": "code",
      "source": [
        "## Raising a custom inspection\n",
        "# Define a custom exception\n",
        "class CustomError(Exception):\n",
        "    pass\n",
        "\n",
        "# Raise the custom exception\n",
        "raise CustomError(\"This is a custom error!\")\n"
      ],
      "metadata": {
        "colab": {
          "base_uri": "https://localhost:8080/",
          "height": 176
        },
        "id": "wtPJy7yghMN9",
        "outputId": "284e6d74-39c1-4373-d772-d05c3b623029"
      },
      "execution_count": null,
      "outputs": [
        {
          "output_type": "error",
          "ename": "CustomError",
          "evalue": "This is a custom error!",
          "traceback": [
            "\u001b[0;31m---------------------------------------------------------------------------\u001b[0m",
            "\u001b[0;31mCustomError\u001b[0m                               Traceback (most recent call last)",
            "\u001b[0;32m<ipython-input-10-9c2a668aaec8>\u001b[0m in \u001b[0;36m<cell line: 7>\u001b[0;34m()\u001b[0m\n\u001b[1;32m      5\u001b[0m \u001b[0;34m\u001b[0m\u001b[0m\n\u001b[1;32m      6\u001b[0m \u001b[0;31m# Raise the custom exception\u001b[0m\u001b[0;34m\u001b[0m\u001b[0;34m\u001b[0m\u001b[0m\n\u001b[0;32m----> 7\u001b[0;31m \u001b[0;32mraise\u001b[0m \u001b[0mCustomError\u001b[0m\u001b[0;34m(\u001b[0m\u001b[0;34m\"This is a custom error!\"\u001b[0m\u001b[0;34m)\u001b[0m\u001b[0;34m\u001b[0m\u001b[0;34m\u001b[0m\u001b[0m\n\u001b[0m",
            "\u001b[0;31mCustomError\u001b[0m: This is a custom error!"
          ]
        }
      ]
    },
    {
      "cell_type": "code",
      "source": [
        "#Using raise Without Arguments (Re-raising an Exception):\n",
        "##Inside an except block, you can re-raise the same exception without arguments.\n",
        "try:\n",
        "    x = 1 / 0\n",
        "except ZeroDivisionError:\n",
        "    print(\"Caught a ZeroDivisionError\")\n",
        "    raise  # Re-raises the exception\n"
      ],
      "metadata": {
        "colab": {
          "base_uri": "https://localhost:8080/",
          "height": 228
        },
        "id": "s78vqsNfhWkl",
        "outputId": "1a4b8b15-7e5e-4869-fcb5-44fa6a52c44f"
      },
      "execution_count": null,
      "outputs": [
        {
          "output_type": "stream",
          "name": "stdout",
          "text": [
            "Caught a ZeroDivisionError\n"
          ]
        },
        {
          "output_type": "error",
          "ename": "ZeroDivisionError",
          "evalue": "division by zero",
          "traceback": [
            "\u001b[0;31m---------------------------------------------------------------------------\u001b[0m",
            "\u001b[0;31mZeroDivisionError\u001b[0m                         Traceback (most recent call last)",
            "\u001b[0;32m<ipython-input-11-ada758aab26f>\u001b[0m in \u001b[0;36m<cell line: 3>\u001b[0;34m()\u001b[0m\n\u001b[1;32m      2\u001b[0m \u001b[0;31m##Inside an except block, you can re-raise the same exception without arguments.\u001b[0m\u001b[0;34m\u001b[0m\u001b[0;34m\u001b[0m\u001b[0m\n\u001b[1;32m      3\u001b[0m \u001b[0;32mtry\u001b[0m\u001b[0;34m:\u001b[0m\u001b[0;34m\u001b[0m\u001b[0;34m\u001b[0m\u001b[0m\n\u001b[0;32m----> 4\u001b[0;31m     \u001b[0mx\u001b[0m \u001b[0;34m=\u001b[0m \u001b[0;36m1\u001b[0m \u001b[0;34m/\u001b[0m \u001b[0;36m0\u001b[0m\u001b[0;34m\u001b[0m\u001b[0;34m\u001b[0m\u001b[0m\n\u001b[0m\u001b[1;32m      5\u001b[0m \u001b[0;32mexcept\u001b[0m \u001b[0mZeroDivisionError\u001b[0m\u001b[0;34m:\u001b[0m\u001b[0;34m\u001b[0m\u001b[0;34m\u001b[0m\u001b[0m\n\u001b[1;32m      6\u001b[0m     \u001b[0mprint\u001b[0m\u001b[0;34m(\u001b[0m\u001b[0;34m\"Caught a ZeroDivisionError\"\u001b[0m\u001b[0;34m)\u001b[0m\u001b[0;34m\u001b[0m\u001b[0;34m\u001b[0m\u001b[0m\n",
            "\u001b[0;31mZeroDivisionError\u001b[0m: division by zero"
          ]
        }
      ]
    },
    {
      "cell_type": "markdown",
      "source": [
        "25. Why is it important to use multithreading in certain applications?\n",
        "\n",
        "Solution: Multithreading is important in certain applications because it enables concurrent execution of tasks, improving performance, responsiveness, and resource utilization. Here's why it's beneficial:\n",
        "\n",
        "### **1. Improved Application Responsiveness**\n",
        "- **Benefit**: Multithreading allows applications to perform background tasks while remaining responsive to user inputs.\n",
        "- **Example**: In a graphical user interface (GUI) application, a thread can handle user interactions (e.g., clicking buttons) while another thread performs computations or loads data.\n",
        "\n",
        "### **2. Better Resource Utilization**\n",
        "- **Benefit**: Multithreading can utilize idle CPU cycles effectively, especially when some threads are waiting for I/O operations (like reading files or network responses).\n",
        "- **Example**: While one thread waits for data from a database, another thread can continue processing available data.\n",
        "\n",
        "### **3. Concurrent Task Execution**\n",
        "- **Benefit**: Multiple threads can execute different parts of an application concurrently, improving throughput for tasks that can run in parallel.\n",
        "- **Example**: A web server can handle multiple client requests simultaneously, each in its own thread.\n",
        "\n",
        "### **4. Simplified Program Design for Some Problems**\n",
        "- **Benefit**: Problems involving multiple independent tasks can be easier to implement with multithreading.\n",
        "- **Example**: A data processing pipeline where one thread reads data, another processes it, and a third writes results.\n",
        "\n",
        "### **5. Enables Parallelism (With Limitations in Python)**\n",
        "- **Benefit**: In certain languages, threads can run on multiple CPU cores to perform computations in parallel. However, in Python, due to the **Global Interpreter Lock (GIL)**, true parallelism is limited to I/O-bound operations or when using external libraries that release the GIL (e.g., NumPy).\n",
        "\n",
        "### **6. Real-Time Operations**\n",
        "- **Benefit**: Multithreading is crucial for real-time systems where multiple operations must occur within strict timing constraints.\n",
        "- **Example**: Video games often use threads for rendering graphics, processing user input, and handling game logic simultaneously.\n",
        "\n",
        "### **Examples of Applications That Benefit from Multithreading**:\n",
        "1. **Web Servers**: Handling multiple client requests concurrently.\n",
        "2. **Chat Applications**: Simultaneous sending and receiving of messages.\n",
        "3. **Media Players**: Playing audio/video while downloading or processing subtitles.\n",
        "4. **Data Scraping**: Fetching data from multiple web pages concurrently.\n",
        "5. **Simulations**: Managing multiple entities or processes (e.g., agents in AI simulations).\n",
        "\n",
        "### **Caveats of Multithreading**:\n",
        "- **Thread Safety**: Care must be taken to avoid race conditions and deadlocks when threads access shared resources.\n",
        "- **GIL in Python**: Limits multithreading to I/O-bound tasks rather than CPU-bound tasks. For CPU-intensive tasks, multiprocessing is often preferred."
      ],
      "metadata": {
        "id": "79Cnbclchn-8"
      }
    },
    {
      "cell_type": "markdown",
      "source": [
        "# **PRACTICAL QUESTIONS**"
      ],
      "metadata": {
        "id": "IPn1enBBiltz"
      }
    },
    {
      "cell_type": "markdown",
      "source": [
        "1. How can you open a file for writing in Python and write a string to it?\n",
        "\n",
        "Solution: To open a file for writing in Python and write a string to it, you can use the built-in `open()` function with the mode `\"w\"`. This opens the file in **write mode**, allowing you to write data to it.\n",
        "\n",
        "### **Steps**:\n",
        "1. Use `open()` with `\"w\"` mode to open the file.\n",
        "   - If the file doesn’t exist, it will be created.\n",
        "   - If the file exists, its content will be overwritten.\n",
        "2. Use the file object’s `write()` method to write a string to the file.\n",
        "3. Close the file using the `close()` method or use a `with` statement for automatic handling.\n",
        "\n",
        "- The `with` statement automatically closes the file after the block is executed, even if an exception occurs.\n",
        "\n",
        "### **Key Points**:\n",
        "- **Overwriting**: Opening a file in `\"w\"` mode erases its contents if the file already exists. To append data instead, use `\"a\"` mode.\n",
        "- **File Location**: By default, the file is created in the current working directory. Use a full path to specify a different location.\n",
        "To open a file for writing in Python and write a string to it, you can use the built-in `open()` function with the mode `\"w\"`. This opens the file in **write mode**, allowing you to write data to it.\n",
        "\n",
        "      with open(\"/path/to/directory/example.txt\", \"w\") as file:\n",
        "                file.write(\"Hello, World!\")\n"
      ],
      "metadata": {
        "id": "YafeomRti6Be"
      }
    },
    {
      "cell_type": "code",
      "source": [
        "# Example 1: Using open() and close():\n",
        "# Open a file in write mode\n",
        "file = open(\"example.txt\", \"w\")\n",
        "\n",
        "# Write a string to the file\n",
        "file.write(\"Hello, World!\")\n",
        "\n",
        "# Close the file\n",
        "file.close()\n"
      ],
      "metadata": {
        "id": "GfVx3jGxhhvA"
      },
      "execution_count": null,
      "outputs": []
    },
    {
      "cell_type": "code",
      "source": [
        "# Example 2: Using a with Statement (Recommended):\n",
        "# Open a file in write mode using 'with'\n",
        "with open(\"example.txt\", \"w\") as file:\n",
        "    # Write a string to the file\n",
        "    file.write(\"Hello, World!\")\n"
      ],
      "metadata": {
        "id": "f77p-ZPbl38f"
      },
      "execution_count": null,
      "outputs": []
    },
    {
      "cell_type": "markdown",
      "source": [
        "2.  Write a Python program to read the contents of a file and print each line?\n"
      ],
      "metadata": {
        "id": "O6RzmAP-mKHa"
      }
    },
    {
      "cell_type": "code",
      "source": [
        "#Program\n",
        "# Open the file in read mode\n",
        "with open(\"example.txt\", \"r\") as file:\n",
        "    # Loop through each line in the file\n",
        "    for line in file:\n",
        "        # Print the line after stripping trailing whitespace\n",
        "        print(line.strip())\n"
      ],
      "metadata": {
        "colab": {
          "base_uri": "https://localhost:8080/"
        },
        "id": "yEIeY76JmFGp",
        "outputId": "d8f22ddb-f76d-4fa6-d514-a9e075b54d74"
      },
      "execution_count": null,
      "outputs": [
        {
          "output_type": "stream",
          "name": "stdout",
          "text": [
            "Hello, World!\n"
          ]
        }
      ]
    },
    {
      "cell_type": "markdown",
      "source": [
        "3.  How would you handle a case where the file doesn't exist while trying to open it for reading?\n",
        "\n",
        "Solution:\n",
        "To handle a case where the file doesn't exist while trying to open it for reading, we can use a try-except block to catch the FileNotFoundError exception. Here's how:"
      ],
      "metadata": {
        "id": "0pSUVTB_mfz2"
      }
    },
    {
      "cell_type": "code",
      "source": [
        "#EX Program\n",
        "try:\n",
        "    # Attempt to open the file in read mode\n",
        "    with open(\"example.txt\", \"r\") as file:\n",
        "        # Read and print each line\n",
        "        for line in file:\n",
        "            print(line.strip())\n",
        "except FileNotFoundError:\n",
        "    # Handle the case where the file does not exist\n",
        "    print(\"Error: The file does not exist. Please check the file name or path.\")\n"
      ],
      "metadata": {
        "colab": {
          "base_uri": "https://localhost:8080/"
        },
        "id": "JkX4X4NimWml",
        "outputId": "5f3bead3-a586-449f-af73-bfa157acd915"
      },
      "execution_count": null,
      "outputs": [
        {
          "output_type": "stream",
          "name": "stdout",
          "text": [
            "Hello, World!\n"
          ]
        }
      ]
    },
    {
      "cell_type": "markdown",
      "source": [
        "Explanation:\n",
        "- try Block:\n",
        "The open() function attempts to open the file. If the file is not found, it raises a FileNotFoundError.\n",
        "- except FileNotFoundError Block:\n",
        "This block handles the exception by displaying a user-friendly message or performing alternative actions, like creating the file or logging the error.\n",
        "- Graceful Exit:\n",
        "Instead of crashing the program with an unhandled exception, the code continues execution smoothly after handling the error.\n",
        "\n",
        "Benefits of Handling FileNotFoundError:\\\n",
        "User Experience: Provides clear feedback when the file cannot be found.\\\n",
        "Error Resilience: Prevents the program from crashing due to missing files.\\\n",
        "Flexibility: Allows alternative actions, like creating the file or retrying."
      ],
      "metadata": {
        "id": "Gz1SkN--m6kF"
      }
    },
    {
      "cell_type": "markdown",
      "source": [
        "4. Write a Python script that reads from one file and writes its content to another file?"
      ],
      "metadata": {
        "id": "R_nyYlGsngMl"
      }
    },
    {
      "cell_type": "code",
      "source": [
        "#program\n",
        "# Open the source file for reading and the destination file for writing\n",
        "try:\n",
        "    with open(\"source.txt\", \"r\") as source_file:\n",
        "        with open(\"destination.txt\", \"w\") as destination_file:\n",
        "            # Read from the source file and write to the destination file\n",
        "            for line in source_file:\n",
        "                destination_file.write(line)\n",
        "    print(\"File content successfully copied!\")\n",
        "except FileNotFoundError:\n",
        "    print(\"Error: The source file does not exist.\")\n",
        "except Exception as e:\n",
        "    print(f\"An unexpected error occurred: {e}\")\n"
      ],
      "metadata": {
        "colab": {
          "base_uri": "https://localhost:8080/"
        },
        "id": "tFELI4Jmm5NP",
        "outputId": "2649cd2a-4344-4966-e880-38fd5e871efa"
      },
      "execution_count": null,
      "outputs": [
        {
          "output_type": "stream",
          "name": "stdout",
          "text": [
            "Error: The source file does not exist.\n"
          ]
        }
      ]
    },
    {
      "cell_type": "markdown",
      "source": [
        "5. How would you catch and handle division by zero error in Python?\n",
        "\n",
        "Solution: To catch and handle a division by zero error in Python, we can use a try-except block to catch the ZeroDivisionError exception. This prevents the program from crashing and allows  to handle the error gracefully.\n"
      ],
      "metadata": {
        "id": "nfQZpp77ob8T"
      }
    },
    {
      "cell_type": "code",
      "source": [
        "try:\n",
        "    # Attempt division\n",
        "    numerator = int(input(\"Enter the numerator: \"))\n",
        "    denominator = int(input(\"Enter the denominator: \"))\n",
        "    result = numerator / denominator\n",
        "    print(f\"The result is: {result}\")\n",
        "except ZeroDivisionError:\n",
        "    # Handle division by zero error\n",
        "    print(\"Error: Division by zero is not allowed.\")\n",
        "except ValueError:\n",
        "    # Handle invalid input\n",
        "    print(\"Error: Please enter valid numbers.\")\n"
      ],
      "metadata": {
        "colab": {
          "base_uri": "https://localhost:8080/"
        },
        "id": "njcRyA_BoRYB",
        "outputId": "4c67dc9c-1f5a-476b-8e62-6b1b1874b77a"
      },
      "execution_count": null,
      "outputs": [
        {
          "output_type": "stream",
          "name": "stdout",
          "text": [
            "Enter the numerator: 10\n",
            "Enter the denominator: 0\n",
            "Error: Division by zero is not allowed.\n"
          ]
        }
      ]
    },
    {
      "cell_type": "markdown",
      "source": [
        "6. Write a Python program that logs an error message to a log file when a division by zero exception occurs?"
      ],
      "metadata": {
        "id": "R0ClJ3NWpCTf"
      }
    },
    {
      "cell_type": "code",
      "source": [
        "# Program(using logging )\n",
        "import logging\n",
        "\n",
        "# Configure logging\n",
        "logging.basicConfig(\n",
        "    filename=\"error_log.txt\",  # Log file name\n",
        "    level=logging.ERROR,       # Logging level\n",
        "    format=\"%(asctime)s - %(levelname)s - %(message)s\",  # Log format\n",
        ")\n",
        "\n",
        "# Function for division with error handling\n",
        "def divide_numbers():\n",
        "    try:\n",
        "        numerator = int(input(\"Enter the numerator: \"))\n",
        "        denominator = int(input(\"Enter the denominator: \"))\n",
        "        result = numerator / denominator\n",
        "        print(f\"The result is: {result}\")\n",
        "    except ZeroDivisionError:\n",
        "        # Log the error message to the log file\n",
        "        logging.error(\"Attempted division by zero.\")\n",
        "        print(\"Error: Division by zero is not allowed. Check the log file for details.\")\n",
        "    except ValueError:\n",
        "        # Log invalid input errors\n",
        "        logging.error(\"Invalid input provided. Non-numeric value encountered.\")\n",
        "        print(\"Error: Please enter valid numeric values.\")\n",
        "\n",
        "# Run the function\n",
        "divide_numbers()\n"
      ],
      "metadata": {
        "colab": {
          "base_uri": "https://localhost:8080/"
        },
        "id": "LTG-XqXwo0Bq",
        "outputId": "b048eed5-21af-4fbe-ba47-763cd4b53e06"
      },
      "execution_count": null,
      "outputs": [
        {
          "output_type": "stream",
          "name": "stdout",
          "text": [
            "Enter the numerator: 10\n",
            "Enter the denominator: 2\n",
            "The result is: 5.0\n"
          ]
        }
      ]
    },
    {
      "cell_type": "markdown",
      "source": [
        "7. How do you log information at different levels (INFO, ERROR, WARNING) in Python using the logging module?\n",
        "\n",
        "Solution: To log information at different levels (INFO, ERROR, WARNING) in Python using the **`logging`** module, you can use the appropriate logging methods (`log()`, `info()`, `error()`, `warning()`, etc.) depending on the severity of the message you want to log. You also need to configure the logging module with a level to determine which messages are captured.\n",
        "\n",
        "### **Common Log Levels**:\n",
        "1. **DEBUG**: Detailed information, typically useful for diagnosing problems.\n",
        "2. **INFO**: General information about the program's execution.\n",
        "3. **WARNING**: Indication that something unexpected happened, but the program is still running.\n",
        "4. **ERROR**: More serious problems that indicate the program encountered an issue.\n",
        "5. **CRITICAL**: A very serious error that likely prevents the program from continuing.\n"
      ],
      "metadata": {
        "id": "hZISOptSpX2-"
      }
    },
    {
      "cell_type": "code",
      "source": [
        "import logging\n",
        "\n",
        "# Configure logging\n",
        "logging.basicConfig(\n",
        "    level=logging.DEBUG,   # Set the lowest level to DEBUG so all levels are captured\n",
        "    format=\"%(asctime)s - %(levelname)s - %(message)s\",  # Format of the log message\n",
        "    filename=\"app_log.txt\",  # Log to a file\n",
        "    filemode=\"w\"  # Optional: Overwrite the log file each time the program runs (use 'a' for appending)\n",
        ")\n",
        "\n",
        "# Logging at different levels\n",
        "logging.info(\"This is an info message.\")\n",
        "logging.warning(\"This is a warning message.\")\n",
        "logging.error(\"This is an error message.\")\n"
      ],
      "metadata": {
        "colab": {
          "base_uri": "https://localhost:8080/"
        },
        "id": "cvS4kRiIrdi-",
        "outputId": "da2caf05-f305-47a2-fe99-c6ca9503bb33"
      },
      "execution_count": null,
      "outputs": [
        {
          "output_type": "stream",
          "name": "stderr",
          "text": [
            "WARNING:root:This is a warning message.\n",
            "ERROR:root:This is an error message.\n"
          ]
        }
      ]
    },
    {
      "cell_type": "code",
      "source": [
        "import logging\n",
        "\n",
        "logging.basicConfig(level=logging.DEBUG, force=True)  # `force=True` resets any existing logging configuration\n",
        "\n",
        "logging.info(\"This is an info message.\")\n",
        "logging.warning(\"This is a warning message.\")\n",
        "logging.error(\"This is an error message.\")\n",
        "\n",
        "\n"
      ],
      "metadata": {
        "colab": {
          "base_uri": "https://localhost:8080/"
        },
        "id": "HROuzukluZLW",
        "outputId": "47a71c3a-50a3-4587-8f0b-c69caac499c5"
      },
      "execution_count": null,
      "outputs": [
        {
          "output_type": "stream",
          "name": "stderr",
          "text": [
            "INFO:root:This is an info message.\n",
            "WARNING:root:This is a warning message.\n",
            "ERROR:root:This is an error message.\n"
          ]
        }
      ]
    },
    {
      "cell_type": "markdown",
      "source": [
        "8. Write a program to handle a file opening error using exception handling?"
      ],
      "metadata": {
        "id": "2YLBSxXjzSsZ"
      }
    },
    {
      "cell_type": "code",
      "source": [
        "#Program\n",
        "try:\n",
        "    # Try to open a file that may not exist\n",
        "    with open(\"non_existent_file.txt\", \"r\") as file:\n",
        "        content = file.read()\n",
        "        print(content)\n",
        "except FileNotFoundError:\n",
        "    # Handle the case where the file is not found\n",
        "    print(\"Error: The file does not exist.\")\n",
        "except Exception as e:\n",
        "    # Handle other possible exceptions\n",
        "    print(f\"An unexpected error occurred: {e}\")\n"
      ],
      "metadata": {
        "colab": {
          "base_uri": "https://localhost:8080/"
        },
        "id": "K2HdmO1mwki_",
        "outputId": "55b3f184-0047-42e5-d48f-f9ccc1c20d01"
      },
      "execution_count": null,
      "outputs": [
        {
          "output_type": "stream",
          "name": "stdout",
          "text": [
            "Error: The file does not exist.\n"
          ]
        }
      ]
    },
    {
      "cell_type": "markdown",
      "source": [
        "9. How can you read a file line by line and store its content in a list in Python?\n",
        "\n",
        "Solution: To read a file line by line and store its content in a list in Python, you can use the following approach:"
      ],
      "metadata": {
        "id": "B0X7tiAozbeO"
      }
    },
    {
      "cell_type": "code",
      "source": [
        "# Initialize an empty list to store the lines\n",
        "lines_list = []\n",
        "\n",
        "try:\n",
        "    # Open the file in read mode\n",
        "    with open(\"example_file.txt\", \"r\") as file:\n",
        "        # Read each line and store it in the list\n",
        "        lines_list = file.readlines()\n",
        "\n",
        "    # Optionally, remove any newline characters from the lines\n",
        "    lines_list = [line.strip() for line in lines_list]\n",
        "\n",
        "    # Print the lines stored in the list\n",
        "    print(lines_list)\n",
        "\n",
        "except FileNotFoundError:\n",
        "    print(\"Error: The file does not exist.\")\n",
        "except Exception as e:\n",
        "    print(f\"An unexpected error occurred: {e}\")\n"
      ],
      "metadata": {
        "colab": {
          "base_uri": "https://localhost:8080/"
        },
        "id": "YK9Giqq3zMn_",
        "outputId": "16f8c006-3cf1-4357-e8ee-a506f6539b67"
      },
      "execution_count": null,
      "outputs": [
        {
          "output_type": "stream",
          "name": "stdout",
          "text": [
            "Error: The file does not exist.\n"
          ]
        }
      ]
    },
    {
      "cell_type": "markdown",
      "source": [
        "10.  How can you append data to an existing file in Python?\n",
        "\n",
        "Solution: To append data to an existing file in Python, you can open the file in append mode ('a'). This will allow you to add new content to the file without overwriting its existing content"
      ],
      "metadata": {
        "id": "FfFpEXx1z30g"
      }
    },
    {
      "cell_type": "code",
      "source": [
        "# Data to append\n",
        "data_to_append = \"\\nThis is the new line being added to the file.\"\n",
        "\n",
        "try:\n",
        "    # Open the file in append mode\n",
        "    with open(\"example_file.txt\", \"a\") as file:\n",
        "        # Append data to the file\n",
        "        file.write(\"Hello world, This is a test.\\n\")\n",
        "        file.write(\"This is the new line being added to the file.\\n\")\n",
        "    print(\"Data appended successfully\")\n",
        "except Exception as e:\n",
        "    print(f\"An error occurred: {e}\")\n"
      ],
      "metadata": {
        "colab": {
          "base_uri": "https://localhost:8080/"
        },
        "id": "kwswIu92zv-G",
        "outputId": "9d16da9e-2783-4a41-a7ba-90e9617cf4fb"
      },
      "execution_count": null,
      "outputs": [
        {
          "output_type": "stream",
          "name": "stdout",
          "text": [
            "Data appended successfully\n"
          ]
        }
      ]
    },
    {
      "cell_type": "markdown",
      "source": [
        "11.  Write a Python program that uses a try-except block to handle an error when attempting to access a\n",
        "dictionary key that doesn't exist?\n"
      ],
      "metadata": {
        "id": "OpWIezMYug2D"
      }
    },
    {
      "cell_type": "code",
      "source": [
        "#Program\n",
        "# Sample dictionary\n",
        "my_dict = {\"name\": \"Alice\", \"age\": 25, \"city\": \"New York\"}\n",
        "\n",
        "try:\n",
        "    # Attempt to access a key that may not exist\n",
        "    value = my_dict[\"country\"]\n",
        "    print(f\"The value for 'country' is: {value}\")\n",
        "except KeyError:\n",
        "    # Handle the error if the key doesn't exist\n",
        "    print(\"Error: The key 'country' does not exist in the dictionary.\")\n"
      ],
      "metadata": {
        "colab": {
          "base_uri": "https://localhost:8080/"
        },
        "id": "7fVy8-Z2ufb-",
        "outputId": "d0e2ef55-6baa-49fe-f56a-e59ff73ce921"
      },
      "execution_count": null,
      "outputs": [
        {
          "output_type": "stream",
          "name": "stdout",
          "text": [
            "Error: The key 'country' does not exist in the dictionary.\n"
          ]
        }
      ]
    },
    {
      "cell_type": "markdown",
      "source": [
        "12. Write a program that demonstrates using multiple except blocks to handle different types of exceptions?"
      ],
      "metadata": {
        "id": "yyfCPv5Ku23g"
      }
    },
    {
      "cell_type": "code",
      "source": [
        "#Program\n",
        "try:\n",
        "    # Prompt the user for input\n",
        "    num1 = int(input(\"Enter a number: \"))\n",
        "    num2 = int(input(\"Enter another number: \"))\n",
        "\n",
        "    # Perform division\n",
        "    result = num1 / num2\n",
        "    print(f\"The result of division is: {result}\")\n",
        "\n",
        "    # Attempt to access an element in a list\n",
        "    my_list = [1, 2, 3]\n",
        "    index = int(input(\"Enter an index to access an element in the list: \"))\n",
        "    print(f\"The element at index {index} is: {my_list[index]}\")\n",
        "\n",
        "except ZeroDivisionError:\n",
        "    # Handle division by zero\n",
        "    print(\"Error: Division by zero is not allowed.\")\n",
        "except ValueError:\n",
        "    # Handle invalid input for integer conversion\n",
        "    print(\"Error: Invalid input. Please enter a valid integer.\")\n",
        "except IndexError:\n",
        "    # Handle accessing an index out of range in the list\n",
        "    print(\"Error: Index out of range. Please enter a valid index.\")\n",
        "except Exception as e:\n",
        "    # Handle any other unexpected exceptions\n",
        "    print(f\"An unexpected error occurred: {e}\")\n"
      ],
      "metadata": {
        "colab": {
          "base_uri": "https://localhost:8080/"
        },
        "id": "vjuqTLW70Wjv",
        "outputId": "b636f279-dced-4eb0-a840-7db317f2ad65"
      },
      "execution_count": null,
      "outputs": [
        {
          "output_type": "stream",
          "name": "stdout",
          "text": [
            "Enter a number: 10\n",
            "Enter another number: 2\n",
            "The result of division is: 5.0\n",
            "Enter an index to access an element in the list: 2\n",
            "The element at index 2 is: 3\n"
          ]
        }
      ]
    },
    {
      "cell_type": "markdown",
      "source": [
        "13.  How would you check if a file exists before attempting to read it in Python?\n",
        "\n",
        "Solution: To check if a file exists before attempting to read it in Python, you can use the os.path.exists() function or the pathlib module."
      ],
      "metadata": {
        "id": "I10S-PNcvZJP"
      }
    },
    {
      "cell_type": "code",
      "source": [
        "#Using os.path.exists:\n",
        "import os\n",
        "\n",
        "file_path = \"example_file.txt\"\n",
        "\n",
        "if os.path.exists(file_path):\n",
        "    with open(file_path, \"r\") as file:\n",
        "        content = file.read()\n",
        "        print(content)\n",
        "else:\n",
        "    print(f\"Error: The file '{file_path}' does not exist.\")\n"
      ],
      "metadata": {
        "colab": {
          "base_uri": "https://localhost:8080/"
        },
        "id": "PHVMPcJbvJhW",
        "outputId": "1eec57f1-5df6-4194-f241-9701074994ce"
      },
      "execution_count": null,
      "outputs": [
        {
          "output_type": "stream",
          "name": "stdout",
          "text": [
            "Error: The file 'example_file.txt' does not exist.\n"
          ]
        }
      ]
    },
    {
      "cell_type": "code",
      "source": [
        "#Using pathlib:\n",
        "from pathlib import Path\n",
        "\n",
        "file_path = Path(\"example_file.txt\")\n",
        "\n",
        "if file_path.exists():\n",
        "    with open(file_path, \"r\") as file:\n",
        "        content = file.read()\n",
        "        print(content)\n",
        "else:\n",
        "    print(f\"Error: The file '{file_path}' does not exist.\")\n"
      ],
      "metadata": {
        "colab": {
          "base_uri": "https://localhost:8080/"
        },
        "id": "Zto03A2bv3Zh",
        "outputId": "b58bbd4b-a36d-4077-89d1-b63bf47f7d62"
      },
      "execution_count": null,
      "outputs": [
        {
          "output_type": "stream",
          "name": "stdout",
          "text": [
            "Error: The file 'example_file.txt' does not exist.\n"
          ]
        }
      ]
    },
    {
      "cell_type": "markdown",
      "source": [
        "### **Explanation**:\n",
        "1. **`os.path.exists()`**:\n",
        "   - Checks if the specified file path exists. Returns `True` if the file or directory exists, and `False` otherwise.\n",
        "\n",
        "2. **`pathlib.Path.exists()`**:\n",
        "   - Provides a more modern and object-oriented approach to file system paths. The `exists()` method of a `Path` object checks for the existence of the file.\n",
        "\n",
        "3. **`with open()`**:\n",
        "   - Safely opens the file for reading if it exists. The `with` statement ensures the file is properly closed after reading.\n"
      ],
      "metadata": {
        "id": "9qmK015OwKOs"
      }
    },
    {
      "cell_type": "markdown",
      "source": [
        "14.  Write a program that uses the logging module to log both informational and error messages?\n"
      ],
      "metadata": {
        "id": "lMWp_osnwnCK"
      }
    },
    {
      "cell_type": "code",
      "source": [
        "# PROGRAM\n",
        "import logging\n",
        "\n",
        "# Clear existing handlers to avoid duplicate logs\n",
        "if logging.getLogger().hasHandlers():\n",
        "    logging.getLogger().handlers.clear()\n",
        "\n",
        "# Configure logging\n",
        "logging.basicConfig(\n",
        "    level=logging.INFO,  # Set logging level to include INFO messages\n",
        "    format=\"%(asctime)s - %(levelname)s - %(message)s\"  # Log message format\n",
        ")\n",
        "\n",
        "try:\n",
        "    # Log an informational message\n",
        "    logging.info(\"Starting the program execution.\")\n",
        "\n",
        "    # Perform a division operation\n",
        "    num1 = 10\n",
        "    num2 = 0\n",
        "    result = num1 / num2  # This will raise a ZeroDivisionError\n",
        "\n",
        "    logging.info(f\"The result of division is {result}.\")\n",
        "except ZeroDivisionError:\n",
        "    # Log an error message\n",
        "    logging.error(\"An error occurred: Division by zero.\")\n",
        "except Exception as e:\n",
        "    # Log unexpected errors\n",
        "    logging.error(f\"An unexpected error occurred: {e}\")\n",
        "finally:\n",
        "    logging.info(\"Program execution completed.\")\n"
      ],
      "metadata": {
        "colab": {
          "base_uri": "https://localhost:8080/"
        },
        "id": "UEwCu2Q9wA8d",
        "outputId": "64314a83-3751-42c5-b7b3-09beb47bf71b"
      },
      "execution_count": null,
      "outputs": [
        {
          "output_type": "stream",
          "name": "stderr",
          "text": [
            "2024-12-08 19:39:45,736 - INFO - Starting the program execution.\n",
            "2024-12-08 19:39:45,743 - ERROR - An error occurred: Division by zero.\n",
            "2024-12-08 19:39:45,745 - INFO - Program execution completed.\n"
          ]
        }
      ]
    },
    {
      "cell_type": "markdown",
      "source": [
        "15. Write a Python program that prints the content of a file and handles the case when the file is empty?"
      ],
      "metadata": {
        "id": "e76AiKscyjGf"
      }
    },
    {
      "cell_type": "code",
      "source": [
        "# Program\n",
        "# Create a sample file for testing\n",
        "with open(\"example.txt\", \"w\") as file:\n",
        "    file.write(\"This is a sample file for testing.\\nHave a great day!\")\n",
        "\n",
        "# Run the main program\n",
        "import os\n",
        "\n",
        "file_path = \"example.txt\"\n",
        "\n",
        "try:\n",
        "    if not os.path.exists(file_path):\n",
        "        raise FileNotFoundError(f\"The file '{file_path}' does not exist.\")\n",
        "\n",
        "    with open(file_path, \"r\") as file:\n",
        "        content = file.read()\n",
        "\n",
        "    if not content.strip():\n",
        "        print(\"The file is empty.\")\n",
        "    else:\n",
        "        print(\"File Content:\")\n",
        "        print(content)\n",
        "except FileNotFoundError as e:\n",
        "    print(e)\n",
        "except Exception as e:\n",
        "    print(f\"An unexpected error occurred: {e}\")"
      ],
      "metadata": {
        "colab": {
          "base_uri": "https://localhost:8080/"
        },
        "id": "AtaoPyZJw5eE",
        "outputId": "f042bd28-3fab-4740-9598-18315b82d1e2"
      },
      "execution_count": null,
      "outputs": [
        {
          "output_type": "stream",
          "name": "stdout",
          "text": [
            "File Content:\n",
            "This is a sample file for testing.\n",
            "Have a great day!\n"
          ]
        }
      ]
    },
    {
      "cell_type": "markdown",
      "source": [
        "16. Demonstrate how to use memory profiling to check the memory usage of a small program?\n",
        "\n",
        "Solution:\n",
        "we can use the memory_profiler library in Python to profile memory usage. It provides detailed insights into memory consumption at various stages of a program. Below is a demonstration:\n",
        "\n",
        "1. Install memory_profiler:"
      ],
      "metadata": {
        "id": "EqKWIqmozT2f"
      }
    },
    {
      "cell_type": "code",
      "source": [
        "!pip install memory-profiler\n"
      ],
      "metadata": {
        "colab": {
          "base_uri": "https://localhost:8080/"
        },
        "id": "nWWfLcgBDjqq",
        "outputId": "724cafc9-17ed-44a7-f6e2-4e383f310793"
      },
      "execution_count": 15,
      "outputs": [
        {
          "output_type": "stream",
          "name": "stdout",
          "text": [
            "Requirement already satisfied: memory-profiler in /usr/local/lib/python3.10/dist-packages (0.61.0)\n",
            "Requirement already satisfied: psutil in /usr/local/lib/python3.10/dist-packages (from memory-profiler) (5.9.5)\n"
          ]
        }
      ]
    },
    {
      "cell_type": "markdown",
      "source": [
        "2. Use memory_usage"
      ],
      "metadata": {
        "id": "z9MsO8_eFhoP"
      }
    },
    {
      "cell_type": "code",
      "source": [
        "from memory_profiler import memory_usage\n",
        "\n",
        "# Define a function to profile\n",
        "def calculate_squares(n):\n",
        "    result = [i ** 2 for i in range(n)]\n",
        "    return result\n",
        "\n",
        "# Profile the function and get memory usage\n",
        "mem_usage = memory_usage((calculate_squares, (1000000,)))\n",
        "print(\"Memory usage:\", mem_usage)\n"
      ],
      "metadata": {
        "colab": {
          "base_uri": "https://localhost:8080/"
        },
        "id": "_X_NP_anEqPg",
        "outputId": "d7622bb4-4b5d-452f-83f5-9e71a2d609e2"
      },
      "execution_count": 14,
      "outputs": [
        {
          "output_type": "stream",
          "name": "stdout",
          "text": [
            "Memory usage: [127.86328125, 127.8984375, 129.1484375, 137.94140625, 147.4375, 151.76953125]\n"
          ]
        }
      ]
    },
    {
      "cell_type": "markdown",
      "source": [
        "17. Write a Python program to create and write a list of numbers to a file, one number per line?"
      ],
      "metadata": {
        "id": "yAThOXWL0rNF"
      }
    },
    {
      "cell_type": "code",
      "source": [
        "#Program\n",
        "# File path to write the numbers\n",
        "file_path = \"numbers.txt\"\n",
        "\n",
        "# Create a list of numbers\n",
        "numbers = [1, 2, 3, 4, 5, 6, 7, 8, 9, 10]\n",
        "\n",
        "try:\n",
        "    # Open the file in write mode\n",
        "    with open(file_path, \"w\") as file:\n",
        "        # Write each number to the file, one per line\n",
        "        for number in numbers:\n",
        "            file.write(f\"{number}\\n\")\n",
        "    print(f\"Numbers have been written to {file_path}.\")\n",
        "except Exception as e:\n",
        "    print(f\"An error occurred: {e}\")\n"
      ],
      "metadata": {
        "colab": {
          "base_uri": "https://localhost:8080/"
        },
        "id": "0A74akrJ0xUC",
        "outputId": "a73a3db8-61ae-42ae-882d-acd8e75ae923"
      },
      "execution_count": null,
      "outputs": [
        {
          "output_type": "stream",
          "name": "stdout",
          "text": [
            "Numbers have been written to numbers.txt.\n"
          ]
        }
      ]
    },
    {
      "cell_type": "code",
      "source": [
        "with open(\"numbers.txt\", \"r\") as file:\n",
        "    content = file.read()\n",
        "    print(\"File Content:\")\n",
        "    print(content)\n"
      ],
      "metadata": {
        "colab": {
          "base_uri": "https://localhost:8080/"
        },
        "id": "1myiWUhH1Dv1",
        "outputId": "95044da2-180d-4e41-db43-9f3424cec3a9"
      },
      "execution_count": null,
      "outputs": [
        {
          "output_type": "stream",
          "name": "stdout",
          "text": [
            "File Content:\n",
            "1\n",
            "2\n",
            "3\n",
            "4\n",
            "5\n",
            "6\n",
            "7\n",
            "8\n",
            "9\n",
            "10\n",
            "\n"
          ]
        }
      ]
    },
    {
      "cell_type": "markdown",
      "source": [
        "18.  How would you implement a basic logging setup that logs to a file with rotation after 1MB?\n",
        "\n",
        "Solution: To implement a basic logging setup in Python that logs to a file with rotation after the file size exceeds 1MB, we can use the logging module along with the logging.handlers.RotatingFileHandler. This handler will automatically rotate the log file when it exceeds a specified size.\n",
        "\n"
      ],
      "metadata": {
        "id": "cPCJNHAV1ljS"
      }
    },
    {
      "cell_type": "code",
      "source": [
        "import logging\n",
        "from logging.handlers import RotatingFileHandler\n",
        "\n",
        "# Set up a basic logging configuration with rotation after 1MB\n",
        "log_file = \"app.log\"\n",
        "max_log_size = 1 * 1024 * 1024  # 1MB in bytes\n",
        "backup_count = 3  # Keep 3 backup files after rotation\n",
        "\n",
        "# Create a RotatingFileHandler\n",
        "handler = RotatingFileHandler(log_file, maxBytes=max_log_size, backupCount=backup_count)\n",
        "handler.setLevel(logging.INFO)  # Set the logging level to INFO\n",
        "\n",
        "# Create a formatter\n",
        "formatter = logging.Formatter('%(asctime)s - %(levelname)s - %(message)s')\n",
        "handler.setFormatter(formatter)\n",
        "\n",
        "# Set up the logger\n",
        "logger = logging.getLogger()\n",
        "logger.setLevel(logging.INFO)  # Set the logger level to INFO\n",
        "logger.addHandler(handler)\n",
        "\n",
        "# Example logging\n",
        "logger.info(\"This is an informational message.\")\n",
        "logger.warning(\"This is a warning message.\")\n",
        "logger.error(\"This is an error message.\")\n"
      ],
      "metadata": {
        "colab": {
          "base_uri": "https://localhost:8080/"
        },
        "id": "bxTwx0CM1X0v",
        "outputId": "d00e4a55-1bbe-4a6c-e6a1-e8c0a32e0a5f"
      },
      "execution_count": null,
      "outputs": [
        {
          "output_type": "stream",
          "name": "stderr",
          "text": [
            "2024-12-08 19:55:42,288 - INFO - This is an informational message.\n",
            "2024-12-08 19:55:42,290 - WARNING - This is a warning message.\n",
            "2024-12-08 19:55:42,294 - ERROR - This is an error message.\n"
          ]
        }
      ]
    },
    {
      "cell_type": "markdown",
      "source": [
        "19. Write a program that handles both IndexError and KeyError using a try-except block?"
      ],
      "metadata": {
        "id": "287QLMPb2LtV"
      }
    },
    {
      "cell_type": "code",
      "source": [
        "# Program\n",
        "def handle_errors():\n",
        "    # Example list and dictionary\n",
        "    my_list = [1, 2, 3]\n",
        "    my_dict = {'a': 1, 'b': 2, 'c': 3}\n",
        "\n",
        "    try:\n",
        "        # Attempting to access an invalid index\n",
        "        print(\"Accessing an invalid index in my_list...\")\n",
        "        print(my_list[5])  # This will raise an IndexError\n",
        "\n",
        "        # Attempting to access a key that doesn't exist\n",
        "        print(\"Accessing a non-existent key in my_dict...\")\n",
        "        print(my_dict['d'])  # This will raise a KeyError\n",
        "\n",
        "    except IndexError as e:\n",
        "        print(f\"IndexError occurred: {e}\")\n",
        "\n",
        "    except KeyError as e:\n",
        "        print(f\"KeyError occurred: {e}\")\n",
        "\n",
        "# Call the function to see the error handling in action\n",
        "handle_errors()\n"
      ],
      "metadata": {
        "colab": {
          "base_uri": "https://localhost:8080/"
        },
        "id": "wzivhiO1146x",
        "outputId": "e4df55da-b3bf-43b0-b3fa-7f17e3877025"
      },
      "execution_count": null,
      "outputs": [
        {
          "output_type": "stream",
          "name": "stdout",
          "text": [
            "Accessing an invalid index in my_list...\n",
            "IndexError occurred: list index out of range\n"
          ]
        }
      ]
    },
    {
      "cell_type": "markdown",
      "source": [
        "20. How would you open a file and read its contents using a context manager in Python?\n",
        "\n",
        "Solution: To open a file and read its contents using a context manager in Python, we use the with statement. The with statement ensures that the file is properly closed after its contents are read, even if an error occurs during the operation."
      ],
      "metadata": {
        "id": "6DQb-iWZ2wyw"
      }
    },
    {
      "cell_type": "code",
      "source": [
        "# Specify the file path\n",
        "file_path = \"example.txt\"\n",
        "\n",
        "try:\n",
        "    # Open the file using a context manager\n",
        "    with open(file_path, \"r\") as file:\n",
        "        # Read the contents of the file\n",
        "        content = file.read()\n",
        "        print(\"File Contents:\")\n",
        "        print(content)\n",
        "except FileNotFoundError:\n",
        "    print(f\"The file '{file_path}' does not exist.\")\n",
        "except Exception as e:\n",
        "    print(f\"An error occurred: {e}\")\n"
      ],
      "metadata": {
        "colab": {
          "base_uri": "https://localhost:8080/"
        },
        "id": "ePc33UYS2Pu1",
        "outputId": "c036c82b-6a26-4f71-df7d-8591c9a145d7"
      },
      "execution_count": null,
      "outputs": [
        {
          "output_type": "stream",
          "name": "stdout",
          "text": [
            "File Contents:\n",
            "This is a sample file for testing.\n",
            "Have a great day!\n"
          ]
        }
      ]
    },
    {
      "cell_type": "markdown",
      "source": [
        "21. Write a Python program that reads a file and prints the number of occurrences of a specific word?"
      ],
      "metadata": {
        "id": "GXGcWQ623P1Z"
      }
    },
    {
      "cell_type": "code",
      "source": [
        "# Create the example.txt file\n",
        "with open(\"example.txt\", \"w\") as file:\n",
        "    file.write(\"Python is a versatile programming language.\\n\")\n",
        "    file.write(\"Many developers use Python for data analysis, machine learning, and web development.\\n\")\n",
        "    file.write(\"Python is great!\\n\")"
      ],
      "metadata": {
        "id": "uJVjdxvF3Arh"
      },
      "execution_count": null,
      "outputs": []
    },
    {
      "cell_type": "code",
      "source": [
        "import re\n",
        "\n",
        "# Function to count the occurrences of a specific word in a file\n",
        "def count_word_occurrences(file_path, target_word):\n",
        "    try:\n",
        "        # Open the file using a context manager\n",
        "        with open(file_path, \"r\") as file:\n",
        "            # Read the file content\n",
        "            content = file.read()\n",
        "\n",
        "        # Use regex to find whole-word matches, ignoring case\n",
        "        word_count = len(re.findall(rf'\\b{re.escape(target_word)}\\b', content, flags=re.IGNORECASE))\n",
        "        print(f\"The word '{target_word}' occurs {word_count} times in the file.\")\n",
        "\n",
        "    except FileNotFoundError:\n",
        "        print(f\"The file '{file_path}' does not exist.\")\n",
        "    except Exception as e:\n",
        "        print(f\"An error occurred: {e}\")\n",
        "\n",
        "# Specify the file path and the word to search for\n",
        "file_path = \"example.txt\"\n",
        "target_word = \"Python\"\n",
        "\n",
        "# Call the function\n",
        "count_word_occurrences(file_path, target_word)\n"
      ],
      "metadata": {
        "colab": {
          "base_uri": "https://localhost:8080/"
        },
        "id": "Lm8gWyuv3e7q",
        "outputId": "fe7f2b6b-24fc-4db4-c010-c64cd572d14d"
      },
      "execution_count": null,
      "outputs": [
        {
          "output_type": "stream",
          "name": "stdout",
          "text": [
            "The word 'Python' occurs 3 times in the file.\n"
          ]
        }
      ]
    },
    {
      "cell_type": "markdown",
      "source": [
        "22.  How can you check if a file is empty before attempting to read its contents?\n",
        "\n",
        "Solution: We can check if a file is empty in Python by using the `os` module or by directly reading the file and checking its content. Below are two approaches:\n",
        "\n",
        "### **Key Notes**:\n",
        "- **Method 1** is faster as it only checks the file size without reading its content.\n",
        "- **Method 2** is useful if you want to inspect the file's content during the check.\n",
        "- Always handle exceptions like `FileNotFoundError` to avoid runtime errors.\n"
      ],
      "metadata": {
        "id": "X63dVtwL4Q1q"
      }
    },
    {
      "cell_type": "code",
      "source": [
        "# Method 1: Using os.stat()\n",
        "# This method uses the os.stat() function to check the size of the file.\n",
        "import os\n",
        "\n",
        "# Function to check if a file is empty\n",
        "def is_file_empty(file_path):\n",
        "    try:\n",
        "        # Use os.stat to check file size\n",
        "        if os.stat(file_path).st_size == 0:\n",
        "            print(f\"The file '{file_path}' is empty.\")\n",
        "        else:\n",
        "            print(f\"The file '{file_path}' is not empty.\")\n",
        "    except FileNotFoundError:\n",
        "        print(f\"The file '{file_path}' does not exist.\")\n",
        "    except Exception as e:\n",
        "        print(f\"An error occurred: {e}\")\n",
        "\n",
        "# Specify the file path\n",
        "file_path = \"example.txt\"\n",
        "\n",
        "# Call the function\n",
        "is_file_empty(file_path)\n"
      ],
      "metadata": {
        "colab": {
          "base_uri": "https://localhost:8080/"
        },
        "id": "aedyAKl94LHg",
        "outputId": "4d718bdf-b5bb-4009-ca26-04459dacb608"
      },
      "execution_count": null,
      "outputs": [
        {
          "output_type": "stream",
          "name": "stdout",
          "text": [
            "The file 'example.txt' is not empty.\n"
          ]
        }
      ]
    },
    {
      "cell_type": "code",
      "source": [
        "#Method 2: Using File Read\n",
        "#This method attempts to read the file and checks if its content is empty.\n",
        "\n",
        "# Function to check if a file is empty\n",
        "def is_file_empty(file_path):\n",
        "    try:\n",
        "        with open(file_path, \"r\") as file:\n",
        "            # Check if the file content is empty\n",
        "            content = file.read()\n",
        "            if not content:  # Empty content evaluates to False\n",
        "                print(f\"The file '{file_path}' is empty.\")\n",
        "            else:\n",
        "                print(f\"The file '{file_path}' is not empty.\")\n",
        "    except FileNotFoundError:\n",
        "        print(f\"The file '{file_path}' does not exist.\")\n",
        "    except Exception as e:\n",
        "        print(f\"An error occurred: {e}\")\n",
        "\n",
        "# Specify the file path\n",
        "file_path = \"example.txt\"\n",
        "\n",
        "# Call the function\n",
        "is_file_empty(file_path)\n"
      ],
      "metadata": {
        "id": "mGuGbk3N4wtq",
        "colab": {
          "base_uri": "https://localhost:8080/"
        },
        "outputId": "480b5aa8-9049-4149-fd17-495bf03d2314"
      },
      "execution_count": 1,
      "outputs": [
        {
          "output_type": "stream",
          "name": "stdout",
          "text": [
            "The file 'example.txt' does not exist.\n"
          ]
        }
      ]
    },
    {
      "cell_type": "markdown",
      "source": [
        "23. Write a Python program that writes to a log file when an error occurs during file handling?"
      ],
      "metadata": {
        "id": "P23RZYSm-pj2"
      }
    },
    {
      "cell_type": "code",
      "source": [
        "with open(\"example.txt\", \"w\") as f:\n",
        "    f.write(\"Sample content.\")\n"
      ],
      "metadata": {
        "id": "bNwkfFAG_T_s"
      },
      "execution_count": 4,
      "outputs": []
    },
    {
      "cell_type": "code",
      "source": [
        "# Program\n",
        "import logging\n",
        "\n",
        "# Configure logging to write messages to a log file\n",
        "logging.basicConfig(\n",
        "    filename='file_handling_errors.log',\n",
        "    level=logging.ERROR,\n",
        "    format='%(asctime)s - %(levelname)s - %(message)s'\n",
        ")\n",
        "\n",
        "# Function to read a file and handle errors\n",
        "def read_file(file_path):\n",
        "    try:\n",
        "        # Attempt to open and read the file\n",
        "        with open(file_path, 'r') as file:\n",
        "            content = file.read()\n",
        "            print(\"File Contents:\")\n",
        "            print(content)\n",
        "    except FileNotFoundError:\n",
        "        error_message = f\"The file '{file_path}' does not exist.\"\n",
        "        print(error_message)  # Print user-friendly message\n",
        "        logging.error(error_message)  # Log error to the file\n",
        "    except Exception as e:\n",
        "        error_message = f\"An error occurred: {e}\"\n",
        "        print(error_message)  # Print user-friendly message\n",
        "        logging.error(error_message)  # Log error to the file\n",
        "\n",
        "# Specify the file path\n",
        "file_path = \"example.txt\"\n",
        "\n",
        "# Call the function\n",
        "read_file(file_path)\n"
      ],
      "metadata": {
        "colab": {
          "base_uri": "https://localhost:8080/"
        },
        "id": "Mhm9v2Rg9toV",
        "outputId": "7e26aa78-bcc9-4d4e-e411-0e25fa0f9c49"
      },
      "execution_count": 5,
      "outputs": [
        {
          "output_type": "stream",
          "name": "stdout",
          "text": [
            "File Contents:\n",
            "Sample content.\n"
          ]
        }
      ]
    },
    {
      "cell_type": "code",
      "source": [],
      "metadata": {
        "id": "n9zZYmv5-3TP"
      },
      "execution_count": null,
      "outputs": []
    }
  ]
}